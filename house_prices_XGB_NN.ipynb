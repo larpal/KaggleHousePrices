{
 "cells": [
  {
   "cell_type": "markdown",
   "metadata": {},
   "source": [
    "# Initialization"
   ]
  },
  {
   "cell_type": "code",
   "execution_count": 1,
   "metadata": {},
   "outputs": [],
   "source": [
    "import pandas as pd\n",
    "import matplotlib.pyplot as plt\n",
    "import numpy as np\n",
    "from sklearn.ensemble import RandomForestRegressor\n",
    "from sklearn.metrics import mean_squared_error\n",
    "from fastai.imports import *\n",
    "from fastai.tabular import *\n",
    "import fastaimisc\n",
    "import seaborn as sns\n",
    "from scipy.stats import norm\n",
    "plt.style.use('seaborn-darkgrid')"
   ]
  },
  {
   "cell_type": "markdown",
   "metadata": {},
   "source": [
    "Load the data"
   ]
  },
  {
   "cell_type": "code",
   "execution_count": 2,
   "metadata": {},
   "outputs": [],
   "source": [
    "# loading the data set and test set\n",
    "df_raw = pd.read_csv('train.csv',index_col='Id')\n",
    "df_train = pd.read_csv('train.csv',index_col='Id')\n",
    "df_test = pd.read_csv('test.csv',index_col='Id')\n",
    "\n",
    "# drop SalePrice\n",
    "#df_train_raw.drop('SalePrice',axis=1, inplace=True)\n",
    "\n",
    "# concatenate data frames\n",
    "#df_tot = pd.concat([df_train,df_test])\n",
    "#display_all(df_raw)\n",
    "#display(df_train_raw)\n",
    "#display(df_test_raw)\n"
   ]
  },
  {
   "cell_type": "code",
   "execution_count": 3,
   "metadata": {},
   "outputs": [
    {
     "data": {
      "text/plain": [
       "count      1460.000000\n",
       "mean     180921.195890\n",
       "std       79442.502883\n",
       "min       34900.000000\n",
       "25%      129975.000000\n",
       "50%      163000.000000\n",
       "75%      214000.000000\n",
       "max      755000.000000\n",
       "Name: SalePrice, dtype: float64"
      ]
     },
     "execution_count": 3,
     "metadata": {},
     "output_type": "execute_result"
    }
   ],
   "source": [
    "df_train.SalePrice.describe()"
   ]
  },
  {
   "cell_type": "code",
   "execution_count": 4,
   "metadata": {},
   "outputs": [
    {
     "data": {
      "image/png": "[encoded data removed]",
      "text/plain": [
       "<Figure size 432x288 with 2 Axes>"
      ]
     },
     "metadata": {
      "needs_background": "light"
     },
     "output_type": "display_data"
    }
   ],
   "source": [
    "plt.subplot(1, 2, 1)\n",
    "plt.hist(df_train.YrSold,5)\n",
    "plt.title('Training Set')\n",
    "plt.xlabel('YearSold')\n",
    "plt.subplot(1, 2, 2)\n",
    "plt.hist(df_test.YrSold,5)\n",
    "plt.title('Test Set')\n",
    "plt.xlabel('YearSold')\n",
    "plt.show()"
   ]
  },
  {
   "cell_type": "markdown",
   "metadata": {},
   "source": [
    "# Outlier Cleaning"
   ]
  },
  {
   "cell_type": "markdown",
   "metadata": {},
   "source": [
    "According to Dean de Cock, the data set contains five outliers with *GrLivArea* > 4000: two large houses with accordingly high prices and three large houses with unsusually low prices (partial sales). "
   ]
  },
  {
   "cell_type": "code",
   "execution_count": 5,
   "metadata": {},
   "outputs": [],
   "source": [
    "outlierID_train = df_train[ df_train.GrLivArea > 4000].index\n",
    "outlierID_test = df_test[ df_test.GrLivArea > 4000].index"
   ]
  },
  {
   "cell_type": "code",
   "execution_count": 6,
   "metadata": {},
   "outputs": [
    {
     "data": {
      "image/png": "[encoded data removed]",
      "text/plain": [
       "<Figure size 432x288 with 1 Axes>"
      ]
     },
     "metadata": {
      "needs_background": "light"
     },
     "output_type": "display_data"
    },
    {
     "name": "stdout",
     "output_type": "stream",
     "text": [
      "Id\n",
      "2550    5095\n",
      "Name: GrLivArea, dtype: int64\n"
     ]
    }
   ],
   "source": [
    "fig,ax = plt.subplots()\n",
    "ax.scatter(df_train.GrLivArea,df_train.SalePrice,alpha=0.8)\n",
    "ax.scatter(df_train.GrLivArea[df_train.GrLivArea>4000],df_train.SalePrice[df_raw.GrLivArea>4000])\n",
    "ax.plot([4000,4000],[0,8*10**5],color='black')\n",
    "plt.xlabel('GrLivArea', size=10)\n",
    "plt.ylabel('SalePrice', size=10)\n",
    "plt.show()\n",
    "\n",
    "print(df_test.GrLivArea[df_test.GrLivArea>4000])"
   ]
  },
  {
   "cell_type": "markdown",
   "metadata": {},
   "source": [
    "We see that the training set contains four of those houses but only two partial sales. Thus, the test set must contain the last partial sale. We will later set its predicted value to the average of the two other partial sales."
   ]
  },
  {
   "cell_type": "code",
   "execution_count": 7,
   "metadata": {},
   "outputs": [
    {
     "data": {
      "text/html": [
       "<div>\n",
       "<style scoped>\n",
       "    .dataframe tbody tr th:only-of-type {\n",
       "        vertical-align: middle;\n",
       "    }\n",
       "\n",
       "    .dataframe tbody tr th {\n",
       "        vertical-align: top;\n",
       "    }\n",
       "\n",
       "    .dataframe thead th {\n",
       "        text-align: right;\n",
       "    }\n",
       "</style>\n",
       "<table border=\"1\" class=\"dataframe\">\n",
       "  <thead>\n",
       "    <tr style=\"text-align: right;\">\n",
       "      <th></th>\n",
       "      <th>MSSubClass</th>\n",
       "      <th>MSZoning</th>\n",
       "      <th>LotFrontage</th>\n",
       "      <th>LotArea</th>\n",
       "      <th>Street</th>\n",
       "      <th>Alley</th>\n",
       "      <th>LotShape</th>\n",
       "      <th>LandContour</th>\n",
       "      <th>Utilities</th>\n",
       "      <th>LotConfig</th>\n",
       "      <th>...</th>\n",
       "      <th>PoolArea</th>\n",
       "      <th>PoolQC</th>\n",
       "      <th>Fence</th>\n",
       "      <th>MiscFeature</th>\n",
       "      <th>MiscVal</th>\n",
       "      <th>MoSold</th>\n",
       "      <th>YrSold</th>\n",
       "      <th>SaleType</th>\n",
       "      <th>SaleCondition</th>\n",
       "      <th>SalePrice</th>\n",
       "    </tr>\n",
       "    <tr>\n",
       "      <th>Id</th>\n",
       "      <th></th>\n",
       "      <th></th>\n",
       "      <th></th>\n",
       "      <th></th>\n",
       "      <th></th>\n",
       "      <th></th>\n",
       "      <th></th>\n",
       "      <th></th>\n",
       "      <th></th>\n",
       "      <th></th>\n",
       "      <th></th>\n",
       "      <th></th>\n",
       "      <th></th>\n",
       "      <th></th>\n",
       "      <th></th>\n",
       "      <th></th>\n",
       "      <th></th>\n",
       "      <th></th>\n",
       "      <th></th>\n",
       "      <th></th>\n",
       "      <th></th>\n",
       "    </tr>\n",
       "  </thead>\n",
       "  <tbody>\n",
       "    <tr>\n",
       "      <th>524</th>\n",
       "      <td>60</td>\n",
       "      <td>RL</td>\n",
       "      <td>130.0</td>\n",
       "      <td>40094</td>\n",
       "      <td>Pave</td>\n",
       "      <td>NaN</td>\n",
       "      <td>IR1</td>\n",
       "      <td>Bnk</td>\n",
       "      <td>AllPub</td>\n",
       "      <td>Inside</td>\n",
       "      <td>...</td>\n",
       "      <td>0</td>\n",
       "      <td>NaN</td>\n",
       "      <td>NaN</td>\n",
       "      <td>NaN</td>\n",
       "      <td>0</td>\n",
       "      <td>10</td>\n",
       "      <td>2007</td>\n",
       "      <td>New</td>\n",
       "      <td>Partial</td>\n",
       "      <td>184750</td>\n",
       "    </tr>\n",
       "    <tr>\n",
       "      <th>1299</th>\n",
       "      <td>60</td>\n",
       "      <td>RL</td>\n",
       "      <td>313.0</td>\n",
       "      <td>63887</td>\n",
       "      <td>Pave</td>\n",
       "      <td>NaN</td>\n",
       "      <td>IR3</td>\n",
       "      <td>Bnk</td>\n",
       "      <td>AllPub</td>\n",
       "      <td>Corner</td>\n",
       "      <td>...</td>\n",
       "      <td>480</td>\n",
       "      <td>Gd</td>\n",
       "      <td>NaN</td>\n",
       "      <td>NaN</td>\n",
       "      <td>0</td>\n",
       "      <td>1</td>\n",
       "      <td>2008</td>\n",
       "      <td>New</td>\n",
       "      <td>Partial</td>\n",
       "      <td>160000</td>\n",
       "    </tr>\n",
       "  </tbody>\n",
       "</table>\n",
       "<p>2 rows × 80 columns</p>\n",
       "</div>"
      ],
      "text/plain": [
       "      MSSubClass MSZoning  LotFrontage  LotArea Street Alley LotShape  \\\n",
       "Id                                                                      \n",
       "524           60       RL        130.0    40094   Pave   NaN      IR1   \n",
       "1299          60       RL        313.0    63887   Pave   NaN      IR3   \n",
       "\n",
       "     LandContour Utilities LotConfig  ... PoolArea PoolQC Fence MiscFeature  \\\n",
       "Id                                    ...                                     \n",
       "524          Bnk    AllPub    Inside  ...        0    NaN   NaN         NaN   \n",
       "1299         Bnk    AllPub    Corner  ...      480     Gd   NaN         NaN   \n",
       "\n",
       "     MiscVal MoSold  YrSold  SaleType  SaleCondition  SalePrice  \n",
       "Id                                                               \n",
       "524        0     10    2007       New        Partial     184750  \n",
       "1299       0      1    2008       New        Partial     160000  \n",
       "\n",
       "[2 rows x 80 columns]"
      ]
     },
     "execution_count": 7,
     "metadata": {},
     "output_type": "execute_result"
    }
   ],
   "source": [
    "df_train.loc[(df_train.GrLivArea > 4000) & (df_train.SalePrice < 3*10**5)]"
   ]
  },
  {
   "cell_type": "markdown",
   "metadata": {},
   "source": [
    "We record the average *SalePrice* for the partial sales and drop the outliers from the training set."
   ]
  },
  {
   "cell_type": "code",
   "execution_count": 8,
   "metadata": {},
   "outputs": [],
   "source": [
    "outlier_predicted_price = df_train.loc[(df_train.GrLivArea > 4000) & (df_train.SalePrice < 3*10**5)].SalePrice.mean()\n",
    "df_train.drop(outlierID_train,inplace=True)\n",
    "df_raw.drop(outlierID_train,inplace=True)"
   ]
  },
  {
   "cell_type": "code",
   "execution_count": 9,
   "metadata": {},
   "outputs": [
    {
     "name": "stdout",
     "output_type": "stream",
     "text": [
      "y_target set as log-SalePrice\n",
      "Dependent variable dropped from training set.\n"
     ]
    }
   ],
   "source": [
    "y_target = np.log(df_train.SalePrice)\n",
    "print('y_target set as log-SalePrice')\n",
    "df_train.drop('SalePrice',axis=1,inplace=True)\n",
    "print('Dependent variable dropped from training set.')"
   ]
  },
  {
   "cell_type": "markdown",
   "metadata": {},
   "source": [
    "# Missing Values"
   ]
  },
  {
   "cell_type": "code",
   "execution_count": 10,
   "metadata": {},
   "outputs": [],
   "source": [
    "df_tot = pd.concat([df_train,df_test])"
   ]
  },
  {
   "cell_type": "markdown",
   "metadata": {},
   "source": [
    "We first fill in those missing values that actually indicate the absence of a feature. This is given in the description of the data set. We fill in the value *NotAv* for these values."
   ]
  },
  {
   "cell_type": "code",
   "execution_count": 11,
   "metadata": {},
   "outputs": [],
   "source": [
    "# Figure out missing values\n",
    "list_missing_values = ['Alley','BsmtQual','BsmtCond','BsmtExposure','BsmtFinType1','BsmtFinType2',\n",
    "                       'FireplaceQu','GarageType','GarageFinish','GarageQual','GarageCond',\n",
    "                      'PoolQC','Fence','MiscFeature']\n",
    "for val in list_missing_values:\n",
    "    df_tot.fillna(value={val:'NotAv'},inplace=True)\n"
   ]
  },
  {
   "cell_type": "markdown",
   "metadata": {},
   "source": [
    "Next, we investigate the true missing values."
   ]
  },
  {
   "cell_type": "code",
   "execution_count": 12,
   "metadata": {},
   "outputs": [
    {
     "data": {
      "image/png": "[encoded data removed]",
      "text/plain": [
       "<Figure size 720x216 with 1 Axes>"
      ]
     },
     "metadata": {
      "needs_background": "light"
     },
     "output_type": "display_data"
    }
   ],
   "source": [
    "df_tot_missing = df_tot.isnull().mean()[df_tot.isnull().any()]\n",
    "df_tot_missing.sort_values(ascending=False).plot.bar(figsize=(10,3))\n",
    "plt.title('True Missing Values')\n",
    "plt.ylabel('Fraction Missing')\n",
    "plt.show()"
   ]
  },
  {
   "cell_type": "markdown",
   "metadata": {},
   "source": [
    "We move from top to bottom. The first thing to tackle is *LotFrontage*"
   ]
  },
  {
   "cell_type": "code",
   "execution_count": 13,
   "metadata": {},
   "outputs": [
    {
     "data": {
      "image/png": "[encoded data removed]",
      "text/plain": [
       "<Figure size 720x432 with 4 Axes>"
      ]
     },
     "metadata": {
      "needs_background": "light"
     },
     "output_type": "display_data"
    }
   ],
   "source": [
    "fig,ax = plt.subplots(ncols=2,nrows=2,figsize=(10,6))\n",
    "sns.distplot(df_tot.LotFrontage[df_tot.LotFrontage.notnull()],ax=ax[0][0])\n",
    "ax[0][0].set_title('Distribution of values')\n",
    "sns.regplot(x='LotArea',y='LotFrontage',\n",
    "            data=df_tot.loc[df_tot.LotFrontage.notnull(),['LotArea', 'LotFrontage']],ax=ax[0][1])\n",
    "sns.distplot(df_tot.LotFrontage[df_tot.LotFrontage.notnull()].apply(np.log),ax=ax[1][0])\n",
    "ax[1][0].ticklabel_format(style='sci', axis='x', scilimits=(0,0))\n",
    "ax[1][0].set_title('Distribution of log-values')\n",
    "sns.regplot(x='LotArea',y='LotFrontage',\n",
    "            data=df_tot.loc[df_tot.LotFrontage.notnull(),['LotArea', 'LotFrontage']].apply(np.log),ax=ax[1][1])\n",
    "ax[1][1].set_xlim(6, 13)\n",
    "ax[1][1].set_ylim(2.5, 6)\n",
    "\n",
    "plt.show()"
   ]
  },
  {
   "cell_type": "code",
   "execution_count": 14,
   "metadata": {},
   "outputs": [
    {
     "name": "stdout",
     "output_type": "stream",
     "text": [
      "R2 of the regression: 0.71\n"
     ]
    }
   ],
   "source": [
    "from sklearn.linear_model import LinearRegression\n",
    "tmp = pd.get_dummies(df_tot[['LotFrontage','LotArea', 'LotConfig', 'Neighborhood']])\n",
    "tmp.loc[:,['LotArea','LotFrontage']] = np.log(tmp.loc[:,['LotArea','LotFrontage']])\n",
    "tmp\n",
    "#display(tmp.dropna()['LotFrontage'])\n",
    "#display(np.log(tmp.dropna().drop('LotArea',axis=1)))\n",
    "#tmp.dropna().drop('LotFrontage', axis=1)\n",
    "tmpreg = LinearRegression()\n",
    "tmpreg.fit(tmp.dropna().drop('LotFrontage',axis=1),tmp.dropna()['LotFrontage'])\n",
    "\n",
    "print('R2 of the regression: {:.2f}'.format(\n",
    "    tmpreg.score(tmp.dropna().drop('LotFrontage', axis=1), tmp.dropna()['LotFrontage']))\n",
    "     )\n",
    "#tmp3 = tmpreg.predict(tmp.loc[tmp.isnull().any(axis=1),['LotArea']])\n",
    "tmp3 = tmpreg.predict(tmp.loc[tmp.isnull().any(axis=1)].drop('LotFrontage',axis=1))\n",
    "df_tot.loc[df_tot.LotFrontage.isnull(),'LotFrontage'] = np.exp(tmp3)"
   ]
  },
  {
   "cell_type": "code",
   "execution_count": 15,
   "metadata": {},
   "outputs": [
    {
     "data": {
      "image/png": "[encoded data removed]",
      "text/plain": [
       "<Figure size 864x288 with 3 Axes>"
      ]
     },
     "metadata": {
      "needs_background": "light"
     },
     "output_type": "display_data"
    }
   ],
   "source": [
    "fig,ax = plt.subplots(ncols=3,nrows=1,figsize=(12,4))\n",
    "sns.distplot(df_tot.LotFrontage[df_tot.LotFrontage.notnull()],ax=ax[0])\n",
    "sns.distplot(df_tot.LotFrontage[df_tot.LotFrontage.notnull()].apply(np.log),ax=ax[1])\n",
    "sns.regplot(x='LotArea',y='LotFrontage',\n",
    "            data=pd.concat([df_tot.loc[df_tot.LotFrontage.notnull(),'LotArea'].apply(np.log),\n",
    "           df_tot.loc[df_tot.LotFrontage.notnull(),'LotFrontage'].apply(np.log)], axis=1, sort=False),ax=ax[2])\n",
    "#sns.scatter(pd.concat([df_tot.loc[df_tot.LotFrontage.notnull(),'LotArea'].apply(np.log),\n",
    "#           df_tot.loc[df_tot.LotFrontage.notnull(),'LotFrontage'].apply(np.log),ax=ax[2])\n",
    "sns.scatterplot(x=tmp.loc[tmp.isnull().any(axis=1)]['LotArea'],y=tmp3,color='red',alpha=0.2,ax=ax[2])         \n",
    "plt.show()\n"
   ]
  },
  {
   "cell_type": "markdown",
   "metadata": {},
   "source": [
    "We next look at the missing values considering the different garage properties. We see that there are many missing values for *GarageYrBlt*, but only one each for *GarageCars* and *GarageArea*. The latter two actually belong to the same house. "
   ]
  },
  {
   "cell_type": "code",
   "execution_count": 16,
   "metadata": {},
   "outputs": [
    {
     "data": {
      "text/html": [
       "<div>\n",
       "<style scoped>\n",
       "    .dataframe tbody tr th:only-of-type {\n",
       "        vertical-align: middle;\n",
       "    }\n",
       "\n",
       "    .dataframe tbody tr th {\n",
       "        vertical-align: top;\n",
       "    }\n",
       "\n",
       "    .dataframe thead th {\n",
       "        text-align: right;\n",
       "    }\n",
       "</style>\n",
       "<table border=\"1\" class=\"dataframe\">\n",
       "  <thead>\n",
       "    <tr style=\"text-align: right;\">\n",
       "      <th></th>\n",
       "      <th>GarageArea</th>\n",
       "      <th>GarageCars</th>\n",
       "      <th>GarageType</th>\n",
       "      <th>GarageYrBlt</th>\n",
       "      <th>YearBuilt</th>\n",
       "    </tr>\n",
       "    <tr>\n",
       "      <th>Id</th>\n",
       "      <th></th>\n",
       "      <th></th>\n",
       "      <th></th>\n",
       "      <th></th>\n",
       "      <th></th>\n",
       "    </tr>\n",
       "  </thead>\n",
       "  <tbody>\n",
       "    <tr>\n",
       "      <th>2577</th>\n",
       "      <td>NaN</td>\n",
       "      <td>NaN</td>\n",
       "      <td>Detchd</td>\n",
       "      <td>NaN</td>\n",
       "      <td>1923</td>\n",
       "    </tr>\n",
       "  </tbody>\n",
       "</table>\n",
       "</div>"
      ],
      "text/plain": [
       "      GarageArea  GarageCars GarageType  GarageYrBlt  YearBuilt\n",
       "Id                                                             \n",
       "2577         NaN         NaN     Detchd          NaN       1923"
      ]
     },
     "metadata": {},
     "output_type": "display_data"
    }
   ],
   "source": [
    "display(df_tot.loc[df_tot.GarageArea.isnull(),['GarageArea','GarageCars','GarageType','GarageYrBlt','YearBuilt']])"
   ]
  },
  {
   "cell_type": "markdown",
   "metadata": {},
   "source": [
    "This house seems to have a garage since is has *GarageType = Detchd*. There are quite a few houses in the same neighborhood with a similar age and the same garage type. Thus, we will in the missing values for GarageArea, GarageYrBlt and GarageCars with the median of those values "
   ]
  },
  {
   "cell_type": "code",
   "execution_count": 17,
   "metadata": {},
   "outputs": [
    {
     "data": {
      "text/html": [
       "<div>\n",
       "<style scoped>\n",
       "    .dataframe tbody tr th:only-of-type {\n",
       "        vertical-align: middle;\n",
       "    }\n",
       "\n",
       "    .dataframe tbody tr th {\n",
       "        vertical-align: top;\n",
       "    }\n",
       "\n",
       "    .dataframe thead th {\n",
       "        text-align: right;\n",
       "    }\n",
       "</style>\n",
       "<table border=\"1\" class=\"dataframe\">\n",
       "  <thead>\n",
       "    <tr style=\"text-align: right;\">\n",
       "      <th></th>\n",
       "      <th>GarageArea</th>\n",
       "      <th>GarageCars</th>\n",
       "      <th>GarageYrBlt</th>\n",
       "    </tr>\n",
       "    <tr>\n",
       "      <th>Id</th>\n",
       "      <th></th>\n",
       "      <th></th>\n",
       "      <th></th>\n",
       "    </tr>\n",
       "  </thead>\n",
       "  <tbody>\n",
       "    <tr>\n",
       "      <th>2577</th>\n",
       "      <td>314.0</td>\n",
       "      <td>1.0</td>\n",
       "      <td>1946.0</td>\n",
       "    </tr>\n",
       "  </tbody>\n",
       "</table>\n",
       "</div>"
      ],
      "text/plain": [
       "      GarageArea  GarageCars  GarageYrBlt\n",
       "Id                                       \n",
       "2577       314.0         1.0       1946.0"
      ]
     },
     "metadata": {},
     "output_type": "display_data"
    },
    {
     "name": "stdout",
     "output_type": "stream",
     "text": [
      "Missing vals for GarageCars and GarageArea fixed.\n"
     ]
    }
   ],
   "source": [
    "tmp = df_tot.loc[df_tot.GarageYrBlt.isnull() & (df_tot.GarageCars.isnull()) & (df_tot.GarageArea.isnull())].index\n",
    "#display(df_tot.loc[(df_tot.GarageType == df_tot.loc[tmp[0],'GarageType']) & (df_tot.Neighborhood == df_tot.loc[tmp[0],'Neighborhood']),['GarageArea','GarageType','GarageCars','GarageCond','Neighborhood','GarageYrBlt','YearBuilt','YearRemodAdd']])\n",
    "df_tot.loc[tmp[0],'GarageArea'] = df_tot.loc[(df_tot.GarageType == df_tot.loc[tmp[0],'GarageType']) & (df_tot.Neighborhood == df_tot.loc[tmp[0],'Neighborhood']),'GarageArea'].median()\n",
    "df_tot.loc[tmp[0],'GarageCars'] = df_tot.loc[(df_tot.GarageType == df_tot.loc[tmp[0],'GarageType']) & (df_tot.Neighborhood == df_tot.loc[tmp[0],'Neighborhood']),'GarageCars'].median()\n",
    "df_tot.loc[tmp[0],'GarageYrBlt'] = df_tot.loc[(df_tot.GarageType == df_tot.loc[tmp[0],'GarageType']) & (df_tot.Neighborhood == df_tot.loc[tmp[0],'Neighborhood']),'GarageYrBlt'].median()\n",
    "display(df_tot.loc[tmp,['GarageArea','GarageCars','GarageYrBlt']])\n",
    "print('Missing vals for GarageCars and GarageArea fixed.')"
   ]
  },
  {
   "cell_type": "markdown",
   "metadata": {},
   "source": [
    "Next, we tackle the *GarageYrBlt*. Since *GarageCars* has no missing values, we can plot the histogram for the size of the garages for the missing values."
   ]
  },
  {
   "cell_type": "code",
   "execution_count": 18,
   "metadata": {},
   "outputs": [
    {
     "data": {
      "image/png": "[encoded data removed]",
      "text/plain": [
       "<Figure size 432x288 with 1 Axes>"
      ]
     },
     "metadata": {
      "needs_background": "light"
     },
     "output_type": "display_data"
    }
   ],
   "source": [
    "df_tot.loc[df_tot.GarageYrBlt.isnull(),'GarageCars'].hist()\n",
    "plt.show()"
   ]
  },
  {
   "cell_type": "markdown",
   "metadata": {},
   "source": [
    "Except for one house, all missing values relate to houses without a Garage. For these, we simply set *GarageYrBlt* equal to zero."
   ]
  },
  {
   "cell_type": "code",
   "execution_count": 19,
   "metadata": {},
   "outputs": [
    {
     "name": "stdout",
     "output_type": "stream",
     "text": [
      "GarageYrBlt fixed for missing Garage.\n"
     ]
    }
   ],
   "source": [
    "df_tot.loc[df_tot.GarageYrBlt.isnull() & (df_tot.GarageCars == 0),'GarageYrBlt'] = 0\n",
    "print('GarageYrBlt fixed for missing Garage.')"
   ]
  },
  {
   "cell_type": "code",
   "execution_count": 20,
   "metadata": {},
   "outputs": [
    {
     "data": {
      "text/plain": [
       "Id\n",
       "2127    1.0\n",
       "Name: GarageCars, dtype: float64"
      ]
     },
     "execution_count": 20,
     "metadata": {},
     "output_type": "execute_result"
    }
   ],
   "source": [
    "df_tot.loc[df_tot.GarageYrBlt.isnull()].GarageCars"
   ]
  },
  {
   "cell_type": "markdown",
   "metadata": {},
   "source": [
    "Next, we fix the *GarageYrBlt* for the one observation that has a Garage but is missing the *GarageYrBlt* feature.\n",
    "This house was built in 1910. As a (hopefully) reasonable guess, we set its GarageYrBlt to the average value for those houses in the same neighborhood that were build before 1950 and have the same type of garage."
   ]
  },
  {
   "cell_type": "code",
   "execution_count": 21,
   "metadata": {},
   "outputs": [
    {
     "data": {
      "text/plain": [
       "YearBuilt          1910\n",
       "MSSubClass           60\n",
       "MSZoning             RM\n",
       "Neighborhood    OldTown\n",
       "GarageType       Detchd\n",
       "GarageCars            1\n",
       "GarageCond        NotAv\n",
       "Name: 2127, dtype: object"
      ]
     },
     "metadata": {},
     "output_type": "display_data"
    },
    {
     "data": {
      "text/plain": [
       "GarageYrBlt    1949\n",
       "Name: 2127, dtype: object"
      ]
     },
     "metadata": {},
     "output_type": "display_data"
    },
    {
     "name": "stdout",
     "output_type": "stream",
     "text": [
      "Missing vals for GarageYrBlt fixed.\n"
     ]
    }
   ],
   "source": [
    "tmp = df_tot.loc[df_tot.GarageYrBlt.isnull() & (df_tot.GarageCars > 0)].index\n",
    "display(df_tot.loc[tmp[0]][['YearBuilt','MSSubClass','MSZoning','Neighborhood','GarageType','GarageCars','GarageCond']])\n",
    "#[['GarageFinish','GarageCars','GarageQual','YearBuilt','YearRemodAdd']]\n",
    "df_tot.loc[tmp[0],'GarageYrBlt'] = round(df_tot.loc[(df_tot.YearBuilt < 1950) & (df_tot.GarageType == 'Detchd') & (df_tot.Neighborhood == 'OldTown')]['GarageYrBlt'].mean())\n",
    "\n",
    "display(df_tot.loc[tmp[0]][['GarageYrBlt']])\n",
    "\n",
    "print('Missing vals for GarageYrBlt fixed.')"
   ]
  },
  {
   "cell_type": "markdown",
   "metadata": {},
   "source": [
    "Last, we discover that there is a clear mistake in the *GarageYrBlt* data since on garage seems to have been built far away in the future. We correct this mistake and set the value equal to the value of *YearBuilt*."
   ]
  },
  {
   "cell_type": "code",
   "execution_count": 22,
   "metadata": {},
   "outputs": [],
   "source": [
    "tmp = df_tot.loc[df_tot['GarageYrBlt'] > 2100].index\n",
    "df_tot.loc[tmp[0],'GarageYrBlt']  = df_tot.loc[tmp[0],'YearBuilt'] "
   ]
  },
  {
   "cell_type": "markdown",
   "metadata": {},
   "source": [
    "The next class is *MasVnrType* and *MasVnrArea*. Before considering the missing values, we do a sanity check for the remaining values since we should have *MasVnrArea* = 0 for *MasVnrType* = None.\n",
    "We see that this is not always the case."
   ]
  },
  {
   "cell_type": "code",
   "execution_count": 23,
   "metadata": {},
   "outputs": [
    {
     "data": {
      "text/html": [
       "<div>\n",
       "<style scoped>\n",
       "    .dataframe tbody tr th:only-of-type {\n",
       "        vertical-align: middle;\n",
       "    }\n",
       "\n",
       "    .dataframe tbody tr th {\n",
       "        vertical-align: top;\n",
       "    }\n",
       "\n",
       "    .dataframe thead th {\n",
       "        text-align: right;\n",
       "    }\n",
       "</style>\n",
       "<table border=\"1\" class=\"dataframe\">\n",
       "  <thead>\n",
       "    <tr style=\"text-align: right;\">\n",
       "      <th></th>\n",
       "      <th>MasVnrType</th>\n",
       "      <th>MasVnrArea</th>\n",
       "    </tr>\n",
       "    <tr>\n",
       "      <th>Id</th>\n",
       "      <th></th>\n",
       "      <th></th>\n",
       "    </tr>\n",
       "  </thead>\n",
       "  <tbody>\n",
       "    <tr>\n",
       "      <th>625</th>\n",
       "      <td>None</td>\n",
       "      <td>288.0</td>\n",
       "    </tr>\n",
       "    <tr>\n",
       "      <th>774</th>\n",
       "      <td>None</td>\n",
       "      <td>1.0</td>\n",
       "    </tr>\n",
       "    <tr>\n",
       "      <th>1231</th>\n",
       "      <td>None</td>\n",
       "      <td>1.0</td>\n",
       "    </tr>\n",
       "    <tr>\n",
       "      <th>1301</th>\n",
       "      <td>None</td>\n",
       "      <td>344.0</td>\n",
       "    </tr>\n",
       "    <tr>\n",
       "      <th>1335</th>\n",
       "      <td>None</td>\n",
       "      <td>312.0</td>\n",
       "    </tr>\n",
       "    <tr>\n",
       "      <th>1670</th>\n",
       "      <td>None</td>\n",
       "      <td>285.0</td>\n",
       "    </tr>\n",
       "    <tr>\n",
       "      <th>2453</th>\n",
       "      <td>None</td>\n",
       "      <td>1.0</td>\n",
       "    </tr>\n",
       "  </tbody>\n",
       "</table>\n",
       "</div>"
      ],
      "text/plain": [
       "     MasVnrType  MasVnrArea\n",
       "Id                         \n",
       "625        None       288.0\n",
       "774        None         1.0\n",
       "1231       None         1.0\n",
       "1301       None       344.0\n",
       "1335       None       312.0\n",
       "1670       None       285.0\n",
       "2453       None         1.0"
      ]
     },
     "metadata": {},
     "output_type": "display_data"
    },
    {
     "data": {
      "text/html": [
       "<div>\n",
       "<style scoped>\n",
       "    .dataframe tbody tr th:only-of-type {\n",
       "        vertical-align: middle;\n",
       "    }\n",
       "\n",
       "    .dataframe tbody tr th {\n",
       "        vertical-align: top;\n",
       "    }\n",
       "\n",
       "    .dataframe thead th {\n",
       "        text-align: right;\n",
       "    }\n",
       "</style>\n",
       "<table border=\"1\" class=\"dataframe\">\n",
       "  <thead>\n",
       "    <tr style=\"text-align: right;\">\n",
       "      <th></th>\n",
       "      <th>MasVnrType</th>\n",
       "      <th>MasVnrArea</th>\n",
       "    </tr>\n",
       "    <tr>\n",
       "      <th>Id</th>\n",
       "      <th></th>\n",
       "      <th></th>\n",
       "    </tr>\n",
       "  </thead>\n",
       "  <tbody>\n",
       "    <tr>\n",
       "      <th>689</th>\n",
       "      <td>BrkFace</td>\n",
       "      <td>0.0</td>\n",
       "    </tr>\n",
       "    <tr>\n",
       "      <th>1242</th>\n",
       "      <td>Stone</td>\n",
       "      <td>0.0</td>\n",
       "    </tr>\n",
       "    <tr>\n",
       "      <th>2320</th>\n",
       "      <td>BrkFace</td>\n",
       "      <td>0.0</td>\n",
       "    </tr>\n",
       "  </tbody>\n",
       "</table>\n",
       "</div>"
      ],
      "text/plain": [
       "     MasVnrType  MasVnrArea\n",
       "Id                         \n",
       "689     BrkFace         0.0\n",
       "1242      Stone         0.0\n",
       "2320    BrkFace         0.0"
      ]
     },
     "metadata": {},
     "output_type": "display_data"
    }
   ],
   "source": [
    "display(df_tot.loc[(df_tot.MasVnrType == 'None') & (df_tot.MasVnrArea > 0),['MasVnrType','MasVnrArea']])\n",
    "display(df_tot.loc[(df_tot.MasVnrType != 'None') & (df_tot.MasVnrArea == 0),['MasVnrType','MasVnrArea']])"
   ]
  },
  {
   "cell_type": "markdown",
   "metadata": {},
   "source": [
    "We believe that for *MasVnrType* = None and *MasVnrArea* = 1, the latter area should be zero. Further, if both values are missing, we assume that no masonry veneer exists and set it to None and 0, repsectively. For the houses with  *MasVnrArea* = 0 but a given *MasVnrType*, we set the area equal to the median of the houses with the same type in the same neighborhood. Similarly, for a given area but missing type, we replace this with the mode of those houses in the same neighborhood."
   ]
  },
  {
   "cell_type": "code",
   "execution_count": 24,
   "metadata": {},
   "outputs": [
    {
     "name": "stdout",
     "output_type": "stream",
     "text": [
      "Missing vals for MasVnrArea and MasVnrType fixed.\n"
     ]
    }
   ],
   "source": [
    "# Absences of masonry veneer\n",
    "df_tot.loc[(df_tot.MasVnrType == 'None') & (df_tot.MasVnrArea < 10),'MasVnrArea'] = 0\n",
    "#\n",
    "masvnr_missing_ID = df_tot.loc[df_tot.MasVnrType.isnull() & df_tot.MasVnrArea.isnull()].index\n",
    "df_tot.loc[masvnr_missing_ID,'MasVnrArea'] = 0\n",
    "df_tot.loc[masvnr_missing_ID,'MasVnrType'] = 'None'    \n",
    "\n",
    "\n",
    "# Fill missing MasVnrArea\n",
    "for tmpind in df_tot.loc[(df_tot.MasVnrType == 'Stone') & (df_tot.MasVnrArea < 10),'MasVnrArea'].index:\n",
    "    df_tot.loc[tmpind,'MasVnrArea'] = df_tot.loc[(df_tot.Neighborhood == df_tot.loc[tmpind,'Neighborhood']) & (df_tot.MasVnrType == 'Stone'),'MasVnrArea'].median()\n",
    "for tmpind in df_tot.loc[(df_tot.MasVnrType == 'BrkFace') & (df_tot.MasVnrArea < 10),'MasVnrArea'].index:\n",
    "    df_tot.loc[tmpind,'MasVnrArea'] = df_tot.loc[(df_tot.Neighborhood == df_tot.loc[tmpind,'Neighborhood']) & (df_tot.MasVnrType == 'BrkFace'),'MasVnrArea'].median()\n",
    "\n",
    "# Fill missing MasVnrType\n",
    "for tmpind in df_tot.loc[(df_tot.MasVnrType == 'None') & (df_tot.MasVnrArea > 10),'MasVnrArea'].index:\n",
    "    df_tot.loc[tmpind,'MasVnrType'] = df_tot.loc[(df_tot.Neighborhood == df_tot.loc[tmpind,'Neighborhood']) & (df_tot.MasVnrType != 'None'),'MasVnrType'].mode()[0]\n",
    "for tmpind in df_tot.loc[df_tot.MasVnrType.isnull() & (df_tot.MasVnrArea > 10),'MasVnrArea'].index:\n",
    "    df_tot.loc[tmpind,'MasVnrType'] = df_tot.loc[(df_tot.Neighborhood == df_tot.loc[tmpind,'Neighborhood']) & (df_tot.MasVnrType != 'None'),'MasVnrType'].mode()[0]\n",
    "\n",
    "\n",
    "print('Missing vals for MasVnrArea and MasVnrType fixed.')    "
   ]
  },
  {
   "cell_type": "markdown",
   "metadata": {},
   "source": [
    "Next is *MSZoning*. Here, we set the missing values to be the mode of the neighborhood."
   ]
  },
  {
   "cell_type": "code",
   "execution_count": 25,
   "metadata": {},
   "outputs": [
    {
     "name": "stdout",
     "output_type": "stream",
     "text": [
      "Missing vals for MSZoning and MasVnrType fixed.\n"
     ]
    }
   ],
   "source": [
    "for tmp_ind in df_tot.loc[df_tot.MSZoning.isnull()].index:\n",
    "    df_tot.loc[tmp_ind,'MSZoning'] = df_tot.loc[df_tot.Neighborhood == df_tot.loc[tmp_ind,'Neighborhood'],'MSZoning'].mode()[0]\n",
    "\n",
    "print('Missing vals for MSZoning and MasVnrType fixed.')   "
   ]
  },
  {
   "cell_type": "markdown",
   "metadata": {},
   "source": [
    "For *Functional*, we set the missing values to be the mode of those houses with the same *OverallCond*."
   ]
  },
  {
   "cell_type": "code",
   "execution_count": 26,
   "metadata": {},
   "outputs": [],
   "source": [
    "for tmp_ind in df_tot.loc[df_tot.Functional.isnull()].index:\n",
    "    df_tot.loc[tmp_ind,'Functional'] = df_tot.loc[df_tot.OverallCond == df_tot.loc[tmp_ind,'OverallCond'],'Functional'].mode()[0]\n",
    "\n"
   ]
  },
  {
   "cell_type": "markdown",
   "metadata": {},
   "source": [
    "For the missing *BasementBath* values, we can easily determine that those houses do not have a basement. We set the number of bathrooms to zero."
   ]
  },
  {
   "cell_type": "code",
   "execution_count": 27,
   "metadata": {},
   "outputs": [
    {
     "data": {
      "text/html": [
       "<div>\n",
       "<style scoped>\n",
       "    .dataframe tbody tr th:only-of-type {\n",
       "        vertical-align: middle;\n",
       "    }\n",
       "\n",
       "    .dataframe tbody tr th {\n",
       "        vertical-align: top;\n",
       "    }\n",
       "\n",
       "    .dataframe thead th {\n",
       "        text-align: right;\n",
       "    }\n",
       "</style>\n",
       "<table border=\"1\" class=\"dataframe\">\n",
       "  <thead>\n",
       "    <tr style=\"text-align: right;\">\n",
       "      <th></th>\n",
       "      <th>BsmtFullBath</th>\n",
       "      <th>BsmtHalfBath</th>\n",
       "      <th>BsmtUnfSF</th>\n",
       "      <th>TotalBsmtSF</th>\n",
       "      <th>BsmtFinSF1</th>\n",
       "      <th>BsmtFinSF2</th>\n",
       "    </tr>\n",
       "    <tr>\n",
       "      <th>Id</th>\n",
       "      <th></th>\n",
       "      <th></th>\n",
       "      <th></th>\n",
       "      <th></th>\n",
       "      <th></th>\n",
       "      <th></th>\n",
       "    </tr>\n",
       "  </thead>\n",
       "  <tbody>\n",
       "    <tr>\n",
       "      <th>2593</th>\n",
       "      <td>0.0</td>\n",
       "      <td>0.0</td>\n",
       "      <td>963.0</td>\n",
       "      <td>1546.0</td>\n",
       "      <td>583.0</td>\n",
       "      <td>0.0</td>\n",
       "    </tr>\n",
       "  </tbody>\n",
       "</table>\n",
       "</div>"
      ],
      "text/plain": [
       "      BsmtFullBath  BsmtHalfBath  BsmtUnfSF  TotalBsmtSF  BsmtFinSF1  \\\n",
       "Id                                                                     \n",
       "2593           0.0           0.0      963.0       1546.0       583.0   \n",
       "\n",
       "      BsmtFinSF2  \n",
       "Id                \n",
       "2593         0.0  "
      ]
     },
     "metadata": {},
     "output_type": "display_data"
    },
    {
     "name": "stdout",
     "output_type": "stream",
     "text": [
      "Missing vals for BsmtHalfBath and BsmtFullBath fixed.\n"
     ]
    }
   ],
   "source": [
    "display(df_tot.loc[tmp,['BsmtFullBath','BsmtHalfBath','BsmtUnfSF','TotalBsmtSF','BsmtFinSF1','BsmtFinSF2']])\n",
    "df_tot.loc[df_tot.BsmtFullBath.isnull(),'BsmtFullBath'] = 0\n",
    "df_tot.loc[df_tot.BsmtHalfBath.isnull(),'BsmtHalfBath'] = 0\n",
    "print('Missing vals for BsmtHalfBath and BsmtFullBath fixed.')"
   ]
  },
  {
   "cell_type": "markdown",
   "metadata": {},
   "source": [
    "For *Utilities*, only one house is not *AllPub*, we thus set the missing values to *AllPub*"
   ]
  },
  {
   "cell_type": "code",
   "execution_count": 28,
   "metadata": {},
   "outputs": [
    {
     "name": "stdout",
     "output_type": "stream",
     "text": [
      "Missing vals for Utilities fixed.\n"
     ]
    },
    {
     "data": {
      "image/png": "[encoded data removed]",
      "text/plain": [
       "<Figure size 432x288 with 1 Axes>"
      ]
     },
     "metadata": {
      "needs_background": "light"
     },
     "output_type": "display_data"
    }
   ],
   "source": [
    "sns.countplot(x='Utilities',data=df_tot)\n",
    "df_tot.loc[df_tot.Utilities.isnull(),'Utilities'] = 'AllPub'\n",
    "print('Missing vals for Utilities fixed.')"
   ]
  },
  {
   "cell_type": "markdown",
   "metadata": {},
   "source": [
    "For the missing *SaleType* entries, a histogram shows that most but not all houses were conventional warranty deed. We set the missing values equal to the mode of those houses in the same neighborhood."
   ]
  },
  {
   "cell_type": "code",
   "execution_count": 29,
   "metadata": {
    "scrolled": true
   },
   "outputs": [
    {
     "data": {
      "image/png": "[encoded data removed]",
      "text/plain": [
       "<Figure size 432x288 with 1 Axes>"
      ]
     },
     "metadata": {
      "needs_background": "light"
     },
     "output_type": "display_data"
    },
    {
     "name": "stdout",
     "output_type": "stream",
     "text": [
      "Missing vals for SaleType fixed.\n"
     ]
    }
   ],
   "source": [
    "sns.countplot(x='SaleType',data=df_tot)\n",
    "plt.show()\n",
    "\n",
    "for tmp_ind in df_tot.loc[df_tot.SaleType.isnull()].index:\n",
    "    df_tot.loc[tmp_ind,'SaleType'] = df_tot.loc[df_tot.Neighborhood == df_tot.loc[tmp_ind,'Neighborhood'],'SaleType'].mode()[0]\n",
    "\n",
    "print('Missing vals for SaleType fixed.')"
   ]
  },
  {
   "cell_type": "markdown",
   "metadata": {},
   "source": [
    "For the missing *KitchenQual* value we look at those houses with the *same OverallQual*"
   ]
  },
  {
   "cell_type": "code",
   "execution_count": 30,
   "metadata": {},
   "outputs": [
    {
     "name": "stdout",
     "output_type": "stream",
     "text": [
      "Missing vals for KitchenQual fixed.\n"
     ]
    },
    {
     "data": {
      "image/png": "[encoded data removed]",
      "text/plain": [
       "<Figure size 432x288 with 1 Axes>"
      ]
     },
     "metadata": {
      "needs_background": "light"
     },
     "output_type": "display_data"
    }
   ],
   "source": [
    "tmpqual = df_tot.loc[df_tot.KitchenQual.isnull(),'OverallQual'].values[0]\n",
    "sns.countplot(x='KitchenQual',data=df_tot.loc[df_tot.OverallQual == tmpqual])\n",
    "df_tot.loc[df_tot.KitchenQual.isnull(),'KitchenQual'] = df_tot.loc[df_tot.OverallQual == df_tot.loc[df_tot.loc[df_tot.KitchenQual.isnull()].index[0],'OverallQual'],'KitchenQual'].mode()[0]\n",
    "\n",
    "print('Missing vals for KitchenQual fixed.')"
   ]
  },
  {
   "cell_type": "markdown",
   "metadata": {},
   "source": [
    "For *Electrical*, we see that all modern houses have the same value and thus use that one."
   ]
  },
  {
   "cell_type": "code",
   "execution_count": 31,
   "metadata": {},
   "outputs": [
    {
     "data": {
      "text/plain": [
       "Id\n",
       "1380    2006\n",
       "Name: YearBuilt, dtype: int64"
      ]
     },
     "metadata": {},
     "output_type": "display_data"
    },
    {
     "name": "stdout",
     "output_type": "stream",
     "text": [
      "Missing vals for Electrical fixed.\n"
     ]
    },
    {
     "data": {
      "image/png": "[encoded data removed]",
      "text/plain": [
       "<Figure size 432x288 with 1 Axes>"
      ]
     },
     "metadata": {
      "needs_background": "light"
     },
     "output_type": "display_data"
    }
   ],
   "source": [
    "display(df_tot.loc[df_tot.Electrical.isnull(),'YearBuilt'])\n",
    "sns.countplot(x='Electrical',data=df_tot.loc[df_tot.YearBuilt > 2005])\n",
    "df_tot.loc[df_tot.Electrical.isnull(),'Electrical'] = df_tot.loc[df_tot.YearBuilt > 2005,'Electrical'].mode()[0]\n",
    "\n",
    "print('Missing vals for Electrical fixed.')"
   ]
  },
  {
   "cell_type": "markdown",
   "metadata": {},
   "source": [
    "There are a few missing values for the basement square feet describing variable. These relate to a single house that seems to have no basemend since *BsmtQual* is NotAv. We set those values to zero."
   ]
  },
  {
   "cell_type": "code",
   "execution_count": 32,
   "metadata": {
    "scrolled": true
   },
   "outputs": [
    {
     "name": "stdout",
     "output_type": "stream",
     "text": [
      "Missing vals for Basement areas fixed.\n"
     ]
    }
   ],
   "source": [
    "tmpind = df_tot.loc[df_tot.TotalBsmtSF.isnull(),['BsmtQual','BsmtCond','BsmtFinSF1','BsmtUnfSF']].index\n",
    "df_tot.loc[tmpind[0],'TotalBsmtSF'] = 0\n",
    "df_tot.loc[tmpind[0],'BsmtFinSF1'] = 0\n",
    "df_tot.loc[tmpind[0],'BsmtFinSF2'] = 0\n",
    "df_tot.loc[tmpind[0],'BsmtUnfSF'] = 0\n",
    "print('Missing vals for Basement areas fixed.')"
   ]
  },
  {
   "cell_type": "markdown",
   "metadata": {},
   "source": [
    "The last missing values are *Exterior1st* and *Exterior2nd*. We suppose that these are related to *RoofMatl* and the *MasVnrType* and set them to the mode of the houses with those same attributes."
   ]
  },
  {
   "cell_type": "code",
   "execution_count": 33,
   "metadata": {},
   "outputs": [
    {
     "data": {
      "text/html": [
       "<div>\n",
       "<style scoped>\n",
       "    .dataframe tbody tr th:only-of-type {\n",
       "        vertical-align: middle;\n",
       "    }\n",
       "\n",
       "    .dataframe tbody tr th {\n",
       "        vertical-align: top;\n",
       "    }\n",
       "\n",
       "    .dataframe thead th {\n",
       "        text-align: right;\n",
       "    }\n",
       "</style>\n",
       "<table border=\"1\" class=\"dataframe\">\n",
       "  <thead>\n",
       "    <tr style=\"text-align: right;\">\n",
       "      <th></th>\n",
       "      <th>Exterior2nd</th>\n",
       "      <th>MasVnrType</th>\n",
       "      <th>ExterQual</th>\n",
       "      <th>Foundation</th>\n",
       "      <th>RoofMatl</th>\n",
       "    </tr>\n",
       "    <tr>\n",
       "      <th>Id</th>\n",
       "      <th></th>\n",
       "      <th></th>\n",
       "      <th></th>\n",
       "      <th></th>\n",
       "      <th></th>\n",
       "    </tr>\n",
       "  </thead>\n",
       "  <tbody>\n",
       "    <tr>\n",
       "      <th>2152</th>\n",
       "      <td>NaN</td>\n",
       "      <td>None</td>\n",
       "      <td>TA</td>\n",
       "      <td>PConc</td>\n",
       "      <td>Tar&amp;Grv</td>\n",
       "    </tr>\n",
       "  </tbody>\n",
       "</table>\n",
       "</div>"
      ],
      "text/plain": [
       "     Exterior2nd MasVnrType ExterQual Foundation RoofMatl\n",
       "Id                                                       \n",
       "2152         NaN       None        TA      PConc  Tar&Grv"
      ]
     },
     "metadata": {},
     "output_type": "display_data"
    },
    {
     "data": {
      "image/png": "[encoded data removed]",
      "text/plain": [
       "<Figure size 432x288 with 1 Axes>"
      ]
     },
     "metadata": {
      "needs_background": "light"
     },
     "output_type": "display_data"
    },
    {
     "data": {
      "image/png": "[encoded data removed]",
      "text/plain": [
       "<Figure size 432x288 with 1 Axes>"
      ]
     },
     "metadata": {
      "needs_background": "light"
     },
     "output_type": "display_data"
    }
   ],
   "source": [
    "\n",
    "display(df_tot.loc[df_tot.Exterior1st.isnull(),['Exterior2nd','MasVnrType','ExterQual','Foundation','RoofMatl']])\n",
    "sns.countplot(x='Exterior1st',data=df_tot.loc[(df_tot.MasVnrType == 'None') & (df_tot.RoofMatl == df_tot.loc[tmpind[0],'RoofMatl'])])\n",
    "plt.show()\n",
    "sns.countplot(x='Exterior2nd',data=df_tot.loc[(df_tot.Exterior1st == 'Plywood')] )\n",
    "plt.show()\n",
    "#df_tot.loc[tmpind,'Exterior1st'] = 'Plywood'"
   ]
  },
  {
   "cell_type": "code",
   "execution_count": 34,
   "metadata": {},
   "outputs": [
    {
     "data": {
      "image/png": "[encoded data removed]",
      "text/plain": [
       "<Figure size 864x288 with 2 Axes>"
      ]
     },
     "metadata": {
      "needs_background": "light"
     },
     "output_type": "display_data"
    }
   ],
   "source": [
    "tmpind = df_tot.loc[df_tot.Exterior2nd.isnull(),['Exterior1st','MasVnrType','ExterQual','Foundation']].index\n",
    "fig,ax = plt.subplots(ncols=2,nrows=1,figsize=(12,4))\n",
    "sns.countplot(x='Exterior1st',data=df_tot.loc[(df_tot.MasVnrType == 'None') & (df_tot.RoofMatl == df_tot.loc[tmpind[0],'RoofMatl'])],ax=ax[0])\n",
    "sns.countplot(x='Exterior2nd',data=df_tot.loc[(df_tot.MasVnrType == 'None') & (df_tot.RoofMatl == df_tot.loc[tmpind[0],'RoofMatl'])],ax=ax[1])\n",
    "plt.show()\n",
    "\n",
    "df_tot.loc[tmpind,'Exterior1st'] = 'Plywood'\n",
    "df_tot.loc[tmpind,'Exterior2nd'] = 'Plywood'\n"
   ]
  },
  {
   "cell_type": "markdown",
   "metadata": {},
   "source": [
    "# Feature Engineering"
   ]
  },
  {
   "cell_type": "markdown",
   "metadata": {},
   "source": [
    "First, we look at the categorical features that describe qualitative attributes. We map them to properly ordered numbers."
   ]
  },
  {
   "cell_type": "code",
   "execution_count": 35,
   "metadata": {},
   "outputs": [],
   "source": [
    "from sklearn.preprocessing import LabelEncoder\n",
    "\n",
    "Qual_dict = {'Ex':5,'Gd':4,'TA':3,'Fa':2,'Po':1,'NotAv':0}\n",
    "df_tot['BsmtQual'] = df_tot['BsmtQual'].map(Qual_dict)\n",
    "df_tot['ExterQual'] = df_tot['ExterQual'].map(Qual_dict)\n",
    "df_tot['ExterCond'] = df_tot['ExterCond'].map(Qual_dict)\n",
    "df_tot['BsmtCond'] = df_tot['BsmtCond'].map(Qual_dict)\n",
    "df_tot['HeatingQC'] = df_tot['HeatingQC'].map(Qual_dict)\n",
    "df_tot['KitchenQual'] = df_tot['KitchenQual'].map(Qual_dict)\n",
    "df_tot['FireplaceQu'] = df_tot['FireplaceQu'].map(Qual_dict)\n",
    "df_tot['GarageQual'] = df_tot['GarageQual'].map(Qual_dict)\n",
    "df_tot['GarageCond'] = df_tot['GarageCond'].map(Qual_dict)\n",
    "df_tot['PoolQC'] = df_tot['PoolQC'].map(Qual_dict)\n",
    "#\n",
    "BsmtFinType1_dict = {'GLQ':6,'ALQ':5,'BLQ':4,'Rec':3,'LwQ':2,'Unf':1,'NotAv':0}\n",
    "df_tot['BsmtFinType1'] = df_tot['BsmtFinType1'].map(BsmtFinType1_dict)\n",
    "df_tot['BsmtFinType2'] = df_tot['BsmtFinType2'].map(BsmtFinType1_dict)\n",
    "\n",
    "\n"
   ]
  },
  {
   "cell_type": "markdown",
   "metadata": {},
   "source": [
    "Next, we introduce two few new features: \n",
    "1. *AgeBuilt = YrSold - YearBuilt*\n",
    "2. *AgeRemodAdd =  df_tot.YrSold - df_tot.YearRemodAdd*\n",
    "3. *AgeGarage =  df_tot.YrSold - df_tot.GarageYrBlt*\n",
    "4. *TotalIndrSF =  df_tot.TotalBsmtSF + df_tot.GrLivArea*"
   ]
  },
  {
   "cell_type": "code",
   "execution_count": 36,
   "metadata": {},
   "outputs": [],
   "source": [
    "df_tot['AgeBuilt'] =  df_tot.YrSold - df_tot.YearBuilt\n",
    "#df_tot['AgeRemodAdd'] =  df_tot.YrSold - df_tot.YearRemodAdd\n",
    "#df_tot['AgeGarage'] =  df_tot.YrSold - df_tot.GarageYrBlt\n",
    "df_tot['TotalIndrSF'] =  df_tot.TotalBsmtSF + df_tot.GrLivArea"
   ]
  },
  {
   "cell_type": "markdown",
   "metadata": {},
   "source": [
    "Since *MSSubClass* has numerical entries without numerical meaning, we transform this into strings."
   ]
  },
  {
   "cell_type": "code",
   "execution_count": 37,
   "metadata": {},
   "outputs": [],
   "source": [
    "df_tot['MSSubClass'] = df_tot.MSSubClass.apply(str)\n"
   ]
  },
  {
   "cell_type": "markdown",
   "metadata": {},
   "source": [
    "Last, we perform onehot encoding of the categorical variables. We then split the data set into training and test set and create a target variable from the logarithmic *SalePrice*."
   ]
  },
  {
   "cell_type": "code",
   "execution_count": 38,
   "metadata": {},
   "outputs": [],
   "source": [
    "df_tot_onehot = pd.get_dummies(df_tot)\n",
    "df_train_processed = df_tot_onehot.iloc[:len(df_train),:]\n",
    "df_test_processed = df_tot_onehot.iloc[len(df_train):,:]\n",
    "y_target =  np.log(df_raw.SalePrice)"
   ]
  },
  {
   "cell_type": "code",
   "execution_count": 39,
   "metadata": {},
   "outputs": [
    {
     "data": {
      "text/html": [
       "<div>\n",
       "<style scoped>\n",
       "    .dataframe tbody tr th:only-of-type {\n",
       "        vertical-align: middle;\n",
       "    }\n",
       "\n",
       "    .dataframe tbody tr th {\n",
       "        vertical-align: top;\n",
       "    }\n",
       "\n",
       "    .dataframe thead th {\n",
       "        text-align: right;\n",
       "    }\n",
       "</style>\n",
       "<table border=\"1\" class=\"dataframe\">\n",
       "  <thead>\n",
       "    <tr style=\"text-align: right;\">\n",
       "      <th></th>\n",
       "      <th>LotFrontage</th>\n",
       "      <th>LotArea</th>\n",
       "      <th>OverallQual</th>\n",
       "      <th>OverallCond</th>\n",
       "      <th>YearBuilt</th>\n",
       "      <th>YearRemodAdd</th>\n",
       "      <th>MasVnrArea</th>\n",
       "      <th>ExterQual</th>\n",
       "      <th>ExterCond</th>\n",
       "      <th>BsmtQual</th>\n",
       "      <th>...</th>\n",
       "      <th>SaleType_ConLw</th>\n",
       "      <th>SaleType_New</th>\n",
       "      <th>SaleType_Oth</th>\n",
       "      <th>SaleType_WD</th>\n",
       "      <th>SaleCondition_Abnorml</th>\n",
       "      <th>SaleCondition_AdjLand</th>\n",
       "      <th>SaleCondition_Alloca</th>\n",
       "      <th>SaleCondition_Family</th>\n",
       "      <th>SaleCondition_Normal</th>\n",
       "      <th>SaleCondition_Partial</th>\n",
       "    </tr>\n",
       "  </thead>\n",
       "  <tbody>\n",
       "    <tr>\n",
       "      <th>count</th>\n",
       "      <td>1456.000000</td>\n",
       "      <td>1456.000000</td>\n",
       "      <td>1456.000000</td>\n",
       "      <td>1456.000000</td>\n",
       "      <td>1456.00000</td>\n",
       "      <td>1456.000000</td>\n",
       "      <td>1456.000000</td>\n",
       "      <td>1456.000000</td>\n",
       "      <td>1456.000000</td>\n",
       "      <td>1456.00000</td>\n",
       "      <td>...</td>\n",
       "      <td>1456.000000</td>\n",
       "      <td>1456.000000</td>\n",
       "      <td>1456.000000</td>\n",
       "      <td>1456.000000</td>\n",
       "      <td>1456.000000</td>\n",
       "      <td>1456.000000</td>\n",
       "      <td>1456.000000</td>\n",
       "      <td>1456.000000</td>\n",
       "      <td>1456.000000</td>\n",
       "      <td>1456.000000</td>\n",
       "    </tr>\n",
       "    <tr>\n",
       "      <th>mean</th>\n",
       "      <td>70.256779</td>\n",
       "      <td>10448.784341</td>\n",
       "      <td>6.088599</td>\n",
       "      <td>5.576236</td>\n",
       "      <td>1971.18544</td>\n",
       "      <td>1984.819368</td>\n",
       "      <td>101.899038</td>\n",
       "      <td>3.392170</td>\n",
       "      <td>3.083791</td>\n",
       "      <td>3.48489</td>\n",
       "      <td>...</td>\n",
       "      <td>0.003434</td>\n",
       "      <td>0.082418</td>\n",
       "      <td>0.002060</td>\n",
       "      <td>0.868819</td>\n",
       "      <td>0.068681</td>\n",
       "      <td>0.002747</td>\n",
       "      <td>0.008242</td>\n",
       "      <td>0.013736</td>\n",
       "      <td>0.822115</td>\n",
       "      <td>0.084478</td>\n",
       "    </tr>\n",
       "    <tr>\n",
       "      <th>std</th>\n",
       "      <td>23.873988</td>\n",
       "      <td>9860.763449</td>\n",
       "      <td>1.369669</td>\n",
       "      <td>1.113966</td>\n",
       "      <td>30.20159</td>\n",
       "      <td>20.652143</td>\n",
       "      <td>177.113667</td>\n",
       "      <td>0.570206</td>\n",
       "      <td>0.351509</td>\n",
       "      <td>0.87409</td>\n",
       "      <td>...</td>\n",
       "      <td>0.058520</td>\n",
       "      <td>0.275094</td>\n",
       "      <td>0.045361</td>\n",
       "      <td>0.337715</td>\n",
       "      <td>0.252998</td>\n",
       "      <td>0.052360</td>\n",
       "      <td>0.090440</td>\n",
       "      <td>0.116434</td>\n",
       "      <td>0.382547</td>\n",
       "      <td>0.278199</td>\n",
       "    </tr>\n",
       "    <tr>\n",
       "      <th>min</th>\n",
       "      <td>21.000000</td>\n",
       "      <td>1300.000000</td>\n",
       "      <td>1.000000</td>\n",
       "      <td>1.000000</td>\n",
       "      <td>1872.00000</td>\n",
       "      <td>1950.000000</td>\n",
       "      <td>0.000000</td>\n",
       "      <td>2.000000</td>\n",
       "      <td>1.000000</td>\n",
       "      <td>0.00000</td>\n",
       "      <td>...</td>\n",
       "      <td>0.000000</td>\n",
       "      <td>0.000000</td>\n",
       "      <td>0.000000</td>\n",
       "      <td>0.000000</td>\n",
       "      <td>0.000000</td>\n",
       "      <td>0.000000</td>\n",
       "      <td>0.000000</td>\n",
       "      <td>0.000000</td>\n",
       "      <td>0.000000</td>\n",
       "      <td>0.000000</td>\n",
       "    </tr>\n",
       "    <tr>\n",
       "      <th>25%</th>\n",
       "      <td>59.000000</td>\n",
       "      <td>7538.750000</td>\n",
       "      <td>5.000000</td>\n",
       "      <td>5.000000</td>\n",
       "      <td>1954.00000</td>\n",
       "      <td>1966.750000</td>\n",
       "      <td>0.000000</td>\n",
       "      <td>3.000000</td>\n",
       "      <td>3.000000</td>\n",
       "      <td>3.00000</td>\n",
       "      <td>...</td>\n",
       "      <td>0.000000</td>\n",
       "      <td>0.000000</td>\n",
       "      <td>0.000000</td>\n",
       "      <td>1.000000</td>\n",
       "      <td>0.000000</td>\n",
       "      <td>0.000000</td>\n",
       "      <td>0.000000</td>\n",
       "      <td>0.000000</td>\n",
       "      <td>1.000000</td>\n",
       "      <td>0.000000</td>\n",
       "    </tr>\n",
       "    <tr>\n",
       "      <th>50%</th>\n",
       "      <td>70.000000</td>\n",
       "      <td>9468.500000</td>\n",
       "      <td>6.000000</td>\n",
       "      <td>5.000000</td>\n",
       "      <td>1972.00000</td>\n",
       "      <td>1993.500000</td>\n",
       "      <td>0.000000</td>\n",
       "      <td>3.000000</td>\n",
       "      <td>3.000000</td>\n",
       "      <td>4.00000</td>\n",
       "      <td>...</td>\n",
       "      <td>0.000000</td>\n",
       "      <td>0.000000</td>\n",
       "      <td>0.000000</td>\n",
       "      <td>1.000000</td>\n",
       "      <td>0.000000</td>\n",
       "      <td>0.000000</td>\n",
       "      <td>0.000000</td>\n",
       "      <td>0.000000</td>\n",
       "      <td>1.000000</td>\n",
       "      <td>0.000000</td>\n",
       "    </tr>\n",
       "    <tr>\n",
       "      <th>75%</th>\n",
       "      <td>80.000000</td>\n",
       "      <td>11588.000000</td>\n",
       "      <td>7.000000</td>\n",
       "      <td>6.000000</td>\n",
       "      <td>2000.00000</td>\n",
       "      <td>2004.000000</td>\n",
       "      <td>164.250000</td>\n",
       "      <td>4.000000</td>\n",
       "      <td>3.000000</td>\n",
       "      <td>4.00000</td>\n",
       "      <td>...</td>\n",
       "      <td>0.000000</td>\n",
       "      <td>0.000000</td>\n",
       "      <td>0.000000</td>\n",
       "      <td>1.000000</td>\n",
       "      <td>0.000000</td>\n",
       "      <td>0.000000</td>\n",
       "      <td>0.000000</td>\n",
       "      <td>0.000000</td>\n",
       "      <td>1.000000</td>\n",
       "      <td>0.000000</td>\n",
       "    </tr>\n",
       "    <tr>\n",
       "      <th>max</th>\n",
       "      <td>313.000000</td>\n",
       "      <td>215245.000000</td>\n",
       "      <td>10.000000</td>\n",
       "      <td>9.000000</td>\n",
       "      <td>2010.00000</td>\n",
       "      <td>2010.000000</td>\n",
       "      <td>1600.000000</td>\n",
       "      <td>5.000000</td>\n",
       "      <td>5.000000</td>\n",
       "      <td>5.00000</td>\n",
       "      <td>...</td>\n",
       "      <td>1.000000</td>\n",
       "      <td>1.000000</td>\n",
       "      <td>1.000000</td>\n",
       "      <td>1.000000</td>\n",
       "      <td>1.000000</td>\n",
       "      <td>1.000000</td>\n",
       "      <td>1.000000</td>\n",
       "      <td>1.000000</td>\n",
       "      <td>1.000000</td>\n",
       "      <td>1.000000</td>\n",
       "    </tr>\n",
       "  </tbody>\n",
       "</table>\n",
       "<p>8 rows × 266 columns</p>\n",
       "</div>"
      ],
      "text/plain": [
       "       LotFrontage        LotArea  OverallQual  OverallCond   YearBuilt  \\\n",
       "count  1456.000000    1456.000000  1456.000000  1456.000000  1456.00000   \n",
       "mean     70.256779   10448.784341     6.088599     5.576236  1971.18544   \n",
       "std      23.873988    9860.763449     1.369669     1.113966    30.20159   \n",
       "min      21.000000    1300.000000     1.000000     1.000000  1872.00000   \n",
       "25%      59.000000    7538.750000     5.000000     5.000000  1954.00000   \n",
       "50%      70.000000    9468.500000     6.000000     5.000000  1972.00000   \n",
       "75%      80.000000   11588.000000     7.000000     6.000000  2000.00000   \n",
       "max     313.000000  215245.000000    10.000000     9.000000  2010.00000   \n",
       "\n",
       "       YearRemodAdd   MasVnrArea    ExterQual    ExterCond    BsmtQual  ...  \\\n",
       "count   1456.000000  1456.000000  1456.000000  1456.000000  1456.00000  ...   \n",
       "mean    1984.819368   101.899038     3.392170     3.083791     3.48489  ...   \n",
       "std       20.652143   177.113667     0.570206     0.351509     0.87409  ...   \n",
       "min     1950.000000     0.000000     2.000000     1.000000     0.00000  ...   \n",
       "25%     1966.750000     0.000000     3.000000     3.000000     3.00000  ...   \n",
       "50%     1993.500000     0.000000     3.000000     3.000000     4.00000  ...   \n",
       "75%     2004.000000   164.250000     4.000000     3.000000     4.00000  ...   \n",
       "max     2010.000000  1600.000000     5.000000     5.000000     5.00000  ...   \n",
       "\n",
       "       SaleType_ConLw  SaleType_New  SaleType_Oth  SaleType_WD  \\\n",
       "count     1456.000000   1456.000000   1456.000000  1456.000000   \n",
       "mean         0.003434      0.082418      0.002060     0.868819   \n",
       "std          0.058520      0.275094      0.045361     0.337715   \n",
       "min          0.000000      0.000000      0.000000     0.000000   \n",
       "25%          0.000000      0.000000      0.000000     1.000000   \n",
       "50%          0.000000      0.000000      0.000000     1.000000   \n",
       "75%          0.000000      0.000000      0.000000     1.000000   \n",
       "max          1.000000      1.000000      1.000000     1.000000   \n",
       "\n",
       "       SaleCondition_Abnorml  SaleCondition_AdjLand  SaleCondition_Alloca  \\\n",
       "count            1456.000000            1456.000000           1456.000000   \n",
       "mean                0.068681               0.002747              0.008242   \n",
       "std                 0.252998               0.052360              0.090440   \n",
       "min                 0.000000               0.000000              0.000000   \n",
       "25%                 0.000000               0.000000              0.000000   \n",
       "50%                 0.000000               0.000000              0.000000   \n",
       "75%                 0.000000               0.000000              0.000000   \n",
       "max                 1.000000               1.000000              1.000000   \n",
       "\n",
       "       SaleCondition_Family  SaleCondition_Normal  SaleCondition_Partial  \n",
       "count           1456.000000           1456.000000            1456.000000  \n",
       "mean               0.013736              0.822115               0.084478  \n",
       "std                0.116434              0.382547               0.278199  \n",
       "min                0.000000              0.000000               0.000000  \n",
       "25%                0.000000              1.000000               0.000000  \n",
       "50%                0.000000              1.000000               0.000000  \n",
       "75%                0.000000              1.000000               0.000000  \n",
       "max                1.000000              1.000000               1.000000  \n",
       "\n",
       "[8 rows x 266 columns]"
      ]
     },
     "metadata": {},
     "output_type": "display_data"
    }
   ],
   "source": [
    "display(df_train_processed.describe())"
   ]
  },
  {
   "cell_type": "code",
   "execution_count": null,
   "metadata": {},
   "outputs": [],
   "source": []
  },
  {
   "cell_type": "markdown",
   "metadata": {},
   "source": [
    "# Training a Basic Random Forest"
   ]
  },
  {
   "cell_type": "markdown",
   "metadata": {},
   "source": [
    "We now train a random forest in order to get a baseline score of a simple regressor and to get insight about which features are important. First, we split the data into a training and validation set and define a function to compute the RMSE."
   ]
  },
  {
   "cell_type": "code",
   "execution_count": 40,
   "metadata": {},
   "outputs": [],
   "source": [
    "def split_vals(a,n): return a[:n].copy(), a[n:].copy()\n",
    "X_train, X_val = split_vals(df_train_processed,1-round(len(df_train_processed)/10))\n",
    "y_train, y_val = split_vals(y_target,1-round(len(df_train_processed)/10))\n",
    "\n",
    "def get_rmse(x,y):\n",
    "    \"\"\"Compute RMSE for numerical inputs.\"\"\"\n",
    "    return np.sqrt( np.sum( (x-y)**2)/len(y))"
   ]
  },
  {
   "cell_type": "markdown",
   "metadata": {},
   "source": [
    "Now we train a random forest regressor. We determined the parameters with a bit of trial and error since we're only looking for a reasonable but not yet a great model. The RMSE score would put us at about the middle of the leaderboard, so it's not a terrible model."
   ]
  },
  {
   "cell_type": "code",
   "execution_count": 41,
   "metadata": {},
   "outputs": [
    {
     "name": "stdout",
     "output_type": "stream",
     "text": [
      "r2 score:  0.8717520565915724\n",
      "RMSE:  0.14415482584949388\n"
     ]
    }
   ],
   "source": [
    "m2 = RandomForestRegressor(n_jobs=-1, n_estimators=1000,max_features=0.5,min_samples_leaf=3, oob_score=True)\n",
    "m2.fit(X_train,y_train)\n",
    "print('r2 score: ',m2.score(X_val,y_val))\n",
    "print('RMSE: ',get_rmse(m2.predict(X_val),y_val))"
   ]
  },
  {
   "cell_type": "markdown",
   "metadata": {},
   "source": [
    "# Feature Importance"
   ]
  },
  {
   "cell_type": "markdown",
   "metadata": {},
   "source": [
    "In this section, we explore the importance of the different features in the leaderboard. To do this, we use the function *rf_feat_importance* from the fastai module. This function randomly shuffles one column at a time and determines how the prediction performance degrades. The idea is that the more the performance degrades for a given feature, the more important it is. This is explained [here](https://medium.com/@hiromi_suenaga/machine-learning-1-lesson-3-fa4065d8cb1e).\n",
    "\n",
    "We see (perhaps unsurprisingly) that the most important features are the overall quality, the size, and the age of the house. A plot of all and of the 30 most important features further shows that the importance quickly degrades."
   ]
  },
  {
   "cell_type": "code",
   "execution_count": 42,
   "metadata": {},
   "outputs": [
    {
     "data": {
      "image/png": "[encoded data removed]",
      "text/plain": [
       "<Figure size 1440x360 with 2 Axes>"
      ]
     },
     "metadata": {
      "needs_background": "light"
     },
     "output_type": "display_data"
    }
   ],
   "source": [
    "fi = fastaimisc.rf_feat_importance(m2,X_train); fi[:10]\n",
    "\n",
    "fig, ax = plt.subplots(nrows=1, ncols=2, figsize=(20,5))\n",
    "fi.plot('cols','imp',ax=ax[0])\n",
    "fi[:30].plot('cols','imp','barh',ax=ax[1])\n",
    "plt.show()"
   ]
  },
  {
   "cell_type": "code",
   "execution_count": null,
   "metadata": {},
   "outputs": [],
   "source": []
  },
  {
   "cell_type": "markdown",
   "metadata": {},
   "source": [
    "Out of curiosity, we choose only the 25 (by this measure) most important features and train a new random forest. We see that the performance actually improves "
   ]
  },
  {
   "cell_type": "code",
   "execution_count": 43,
   "metadata": {},
   "outputs": [
    {
     "name": "stdout",
     "output_type": "stream",
     "text": [
      "24\n",
      "All features r2 score:  0.8717520565915722\n",
      "All features RMSE:  0.1438976419104884\n",
      "Trunc features r2 score:  0.8765747875051677\n",
      "Trunc features RMSE:  0.14130040075581918\n",
      "Trunc features RMSE on training set:  0.07535321485632257\n"
     ]
    }
   ],
   "source": [
    "# RF\n",
    "to_keep_RF = fi[fi.imp>0.004].cols; print(len(to_keep_RF))\n",
    "df_keep_RF = df_train_processed[to_keep_RF].copy()\n",
    "X_train_keep_RF,X_val_keep_RF = split_vals(df_keep_RF,1-round(len(df_keep_RF)/10))\n",
    "\n",
    "m3 = RandomForestRegressor(n_jobs=-1, n_estimators=1000,max_features=0.5,min_samples_leaf=3, oob_score=True)\n",
    "m3.fit(X_train_keep_RF,y_train)\n",
    "print('All features r2 score: ',m2.score(X_val,y_val))\n",
    "print('All features RMSE: ',(m2.predict(X_val)-y_val).std())\n",
    "print('Trunc features r2 score: ',m3.score(X_val_keep_RF,y_val))\n",
    "print('Trunc features RMSE: ',(m3.predict(X_val_keep_RF)-y_val).std())\n",
    "print('Trunc features RMSE on training set: ',(m3.predict(X_train_keep_RF)-y_train).std())"
   ]
  },
  {
   "cell_type": "code",
   "execution_count": 44,
   "metadata": {},
   "outputs": [
    {
     "data": {
      "image/png": "[encoded data removed]",
      "text/plain": [
       "<Figure size 1152x720 with 1 Axes>"
      ]
     },
     "metadata": {
      "needs_background": "light"
     },
     "output_type": "display_data"
    }
   ],
   "source": [
    "from scipy.cluster import hierarchy as hc\n",
    "corr = np.round(scipy.stats.spearmanr(X_train_keep_RF).correlation, 4)\n",
    "corr_condensed = hc.distance.squareform(1-corr)\n",
    "z = hc.linkage(corr_condensed, method='average')\n",
    "fig = plt.figure(figsize=(16,10))\n",
    "dendrogram = hc.dendrogram(z, labels=X_train_keep_RF.columns, \n",
    "      orientation='left', leaf_font_size=16)\n",
    "plt.show()"
   ]
  },
  {
   "cell_type": "markdown",
   "metadata": {},
   "source": [
    "# XGBoost"
   ]
  },
  {
   "cell_type": "markdown",
   "metadata": {},
   "source": [
    "For simplicity, we take the XGB model parameters from this (https://www.kaggle.com/serigne/stacked-regressions-top-4-on-leaderboard) notebook."
   ]
  },
  {
   "cell_type": "code",
   "execution_count": 45,
   "metadata": {},
   "outputs": [
    {
     "name": "stderr",
     "output_type": "stream",
     "text": [
      "/usr/local/lib/python3.7/site-packages/xgboost/core.py:587: FutureWarning: Series.base is deprecated and will be removed in a future version\n",
      "  if getattr(data, 'base', None) is not None and \\\n"
     ]
    },
    {
     "name": "stdout",
     "output_type": "stream",
     "text": [
      "[14:18:50] WARNING: src/objective/regression_obj.cu:152: reg:linear is now deprecated in favor of reg:squarederror.\n",
      "RMSE:  0.13078053357353028\n"
     ]
    }
   ],
   "source": [
    "# XGBoost\n",
    "import xgboost as xgb\n",
    "\n",
    "xgb_reg = xgb.XGBRegressor(colsample_bytree = 0.4603, min_child_weight =1.71,\n",
    "                          learning_rate = 0.05, reg_lambda = .85, subsample=0.52,\n",
    "                          gamma = 0.046, max_depth = 3, n_estimators = 2200)\n",
    "\n",
    "\n",
    "\n",
    "\n",
    "xgb_reg.fit(X_train,y_train)\n",
    "print('RMSE: ',(xgb_reg.predict(X_val)-y_val).std())"
   ]
  },
  {
   "cell_type": "markdown",
   "metadata": {},
   "source": [
    "# Neural Network"
   ]
  },
  {
   "cell_type": "code",
   "execution_count": 46,
   "metadata": {},
   "outputs": [],
   "source": [
    "import torch\n",
    "import torch.nn as nn\n",
    "import torch.nn.functional as F"
   ]
  },
  {
   "cell_type": "code",
   "execution_count": 47,
   "metadata": {},
   "outputs": [],
   "source": [
    "# RF\n",
    "to_keep_NN = fi[fi.imp>0.003].cols;\n",
    "df_keep_NN = df_train_processed[to_keep_RF].copy()\n",
    "X_train_keep_RF,X_val_keep_RF = split_vals(df_keep_RF,1-round(len(df_keep_RF)/10))"
   ]
  },
  {
   "cell_type": "code",
   "execution_count": 50,
   "metadata": {},
   "outputs": [
    {
     "data": {
      "text/html": [
       "<div>\n",
       "<style scoped>\n",
       "    .dataframe tbody tr th:only-of-type {\n",
       "        vertical-align: middle;\n",
       "    }\n",
       "\n",
       "    .dataframe tbody tr th {\n",
       "        vertical-align: top;\n",
       "    }\n",
       "\n",
       "    .dataframe thead th {\n",
       "        text-align: right;\n",
       "    }\n",
       "</style>\n",
       "<table border=\"1\" class=\"dataframe\">\n",
       "  <thead>\n",
       "    <tr style=\"text-align: right;\">\n",
       "      <th></th>\n",
       "      <th>OverallQual</th>\n",
       "      <th>TotalIndrSF</th>\n",
       "      <th>ExterQual</th>\n",
       "      <th>GrLivArea</th>\n",
       "      <th>AgeBuilt</th>\n",
       "      <th>YearBuilt</th>\n",
       "      <th>KitchenQual</th>\n",
       "      <th>GarageArea</th>\n",
       "      <th>GarageCars</th>\n",
       "      <th>TotalBsmtSF</th>\n",
       "      <th>...</th>\n",
       "      <th>BsmtQual</th>\n",
       "      <th>GarageYrBlt</th>\n",
       "      <th>FireplaceQu</th>\n",
       "      <th>CentralAir_Y</th>\n",
       "      <th>CentralAir_N</th>\n",
       "      <th>BsmtUnfSF</th>\n",
       "      <th>LotFrontage</th>\n",
       "      <th>BsmtFinType1</th>\n",
       "      <th>2ndFlrSF</th>\n",
       "      <th>Fireplaces</th>\n",
       "    </tr>\n",
       "    <tr>\n",
       "      <th>Id</th>\n",
       "      <th></th>\n",
       "      <th></th>\n",
       "      <th></th>\n",
       "      <th></th>\n",
       "      <th></th>\n",
       "      <th></th>\n",
       "      <th></th>\n",
       "      <th></th>\n",
       "      <th></th>\n",
       "      <th></th>\n",
       "      <th></th>\n",
       "      <th></th>\n",
       "      <th></th>\n",
       "      <th></th>\n",
       "      <th></th>\n",
       "      <th></th>\n",
       "      <th></th>\n",
       "      <th></th>\n",
       "      <th></th>\n",
       "      <th></th>\n",
       "      <th></th>\n",
       "    </tr>\n",
       "  </thead>\n",
       "  <tbody>\n",
       "    <tr>\n",
       "      <th>1</th>\n",
       "      <td>7</td>\n",
       "      <td>2566.0</td>\n",
       "      <td>4</td>\n",
       "      <td>1710</td>\n",
       "      <td>5</td>\n",
       "      <td>2003</td>\n",
       "      <td>4</td>\n",
       "      <td>548.0</td>\n",
       "      <td>2.0</td>\n",
       "      <td>856.0</td>\n",
       "      <td>...</td>\n",
       "      <td>4</td>\n",
       "      <td>2003.0</td>\n",
       "      <td>0</td>\n",
       "      <td>1</td>\n",
       "      <td>0</td>\n",
       "      <td>150.0</td>\n",
       "      <td>65.0</td>\n",
       "      <td>6</td>\n",
       "      <td>854</td>\n",
       "      <td>0</td>\n",
       "    </tr>\n",
       "    <tr>\n",
       "      <th>2</th>\n",
       "      <td>6</td>\n",
       "      <td>2524.0</td>\n",
       "      <td>3</td>\n",
       "      <td>1262</td>\n",
       "      <td>31</td>\n",
       "      <td>1976</td>\n",
       "      <td>3</td>\n",
       "      <td>460.0</td>\n",
       "      <td>2.0</td>\n",
       "      <td>1262.0</td>\n",
       "      <td>...</td>\n",
       "      <td>4</td>\n",
       "      <td>1976.0</td>\n",
       "      <td>3</td>\n",
       "      <td>1</td>\n",
       "      <td>0</td>\n",
       "      <td>284.0</td>\n",
       "      <td>80.0</td>\n",
       "      <td>5</td>\n",
       "      <td>0</td>\n",
       "      <td>1</td>\n",
       "    </tr>\n",
       "    <tr>\n",
       "      <th>3</th>\n",
       "      <td>7</td>\n",
       "      <td>2706.0</td>\n",
       "      <td>4</td>\n",
       "      <td>1786</td>\n",
       "      <td>7</td>\n",
       "      <td>2001</td>\n",
       "      <td>4</td>\n",
       "      <td>608.0</td>\n",
       "      <td>2.0</td>\n",
       "      <td>920.0</td>\n",
       "      <td>...</td>\n",
       "      <td>4</td>\n",
       "      <td>2001.0</td>\n",
       "      <td>3</td>\n",
       "      <td>1</td>\n",
       "      <td>0</td>\n",
       "      <td>434.0</td>\n",
       "      <td>68.0</td>\n",
       "      <td>6</td>\n",
       "      <td>866</td>\n",
       "      <td>1</td>\n",
       "    </tr>\n",
       "    <tr>\n",
       "      <th>4</th>\n",
       "      <td>7</td>\n",
       "      <td>2473.0</td>\n",
       "      <td>3</td>\n",
       "      <td>1717</td>\n",
       "      <td>91</td>\n",
       "      <td>1915</td>\n",
       "      <td>4</td>\n",
       "      <td>642.0</td>\n",
       "      <td>3.0</td>\n",
       "      <td>756.0</td>\n",
       "      <td>...</td>\n",
       "      <td>3</td>\n",
       "      <td>1998.0</td>\n",
       "      <td>4</td>\n",
       "      <td>1</td>\n",
       "      <td>0</td>\n",
       "      <td>540.0</td>\n",
       "      <td>60.0</td>\n",
       "      <td>5</td>\n",
       "      <td>756</td>\n",
       "      <td>1</td>\n",
       "    </tr>\n",
       "    <tr>\n",
       "      <th>5</th>\n",
       "      <td>8</td>\n",
       "      <td>3343.0</td>\n",
       "      <td>4</td>\n",
       "      <td>2198</td>\n",
       "      <td>8</td>\n",
       "      <td>2000</td>\n",
       "      <td>4</td>\n",
       "      <td>836.0</td>\n",
       "      <td>3.0</td>\n",
       "      <td>1145.0</td>\n",
       "      <td>...</td>\n",
       "      <td>4</td>\n",
       "      <td>2000.0</td>\n",
       "      <td>3</td>\n",
       "      <td>1</td>\n",
       "      <td>0</td>\n",
       "      <td>490.0</td>\n",
       "      <td>84.0</td>\n",
       "      <td>6</td>\n",
       "      <td>1053</td>\n",
       "      <td>1</td>\n",
       "    </tr>\n",
       "    <tr>\n",
       "      <th>...</th>\n",
       "      <td>...</td>\n",
       "      <td>...</td>\n",
       "      <td>...</td>\n",
       "      <td>...</td>\n",
       "      <td>...</td>\n",
       "      <td>...</td>\n",
       "      <td>...</td>\n",
       "      <td>...</td>\n",
       "      <td>...</td>\n",
       "      <td>...</td>\n",
       "      <td>...</td>\n",
       "      <td>...</td>\n",
       "      <td>...</td>\n",
       "      <td>...</td>\n",
       "      <td>...</td>\n",
       "      <td>...</td>\n",
       "      <td>...</td>\n",
       "      <td>...</td>\n",
       "      <td>...</td>\n",
       "      <td>...</td>\n",
       "      <td>...</td>\n",
       "    </tr>\n",
       "    <tr>\n",
       "      <th>2915</th>\n",
       "      <td>4</td>\n",
       "      <td>1638.0</td>\n",
       "      <td>3</td>\n",
       "      <td>1092</td>\n",
       "      <td>36</td>\n",
       "      <td>1970</td>\n",
       "      <td>3</td>\n",
       "      <td>0.0</td>\n",
       "      <td>0.0</td>\n",
       "      <td>546.0</td>\n",
       "      <td>...</td>\n",
       "      <td>3</td>\n",
       "      <td>0.0</td>\n",
       "      <td>0</td>\n",
       "      <td>1</td>\n",
       "      <td>0</td>\n",
       "      <td>546.0</td>\n",
       "      <td>21.0</td>\n",
       "      <td>1</td>\n",
       "      <td>546</td>\n",
       "      <td>0</td>\n",
       "    </tr>\n",
       "    <tr>\n",
       "      <th>2916</th>\n",
       "      <td>4</td>\n",
       "      <td>1638.0</td>\n",
       "      <td>3</td>\n",
       "      <td>1092</td>\n",
       "      <td>36</td>\n",
       "      <td>1970</td>\n",
       "      <td>3</td>\n",
       "      <td>286.0</td>\n",
       "      <td>1.0</td>\n",
       "      <td>546.0</td>\n",
       "      <td>...</td>\n",
       "      <td>3</td>\n",
       "      <td>1970.0</td>\n",
       "      <td>0</td>\n",
       "      <td>1</td>\n",
       "      <td>0</td>\n",
       "      <td>294.0</td>\n",
       "      <td>21.0</td>\n",
       "      <td>3</td>\n",
       "      <td>546</td>\n",
       "      <td>0</td>\n",
       "    </tr>\n",
       "    <tr>\n",
       "      <th>2917</th>\n",
       "      <td>5</td>\n",
       "      <td>2448.0</td>\n",
       "      <td>3</td>\n",
       "      <td>1224</td>\n",
       "      <td>46</td>\n",
       "      <td>1960</td>\n",
       "      <td>3</td>\n",
       "      <td>576.0</td>\n",
       "      <td>2.0</td>\n",
       "      <td>1224.0</td>\n",
       "      <td>...</td>\n",
       "      <td>3</td>\n",
       "      <td>1960.0</td>\n",
       "      <td>3</td>\n",
       "      <td>1</td>\n",
       "      <td>0</td>\n",
       "      <td>0.0</td>\n",
       "      <td>160.0</td>\n",
       "      <td>5</td>\n",
       "      <td>0</td>\n",
       "      <td>1</td>\n",
       "    </tr>\n",
       "    <tr>\n",
       "      <th>2918</th>\n",
       "      <td>5</td>\n",
       "      <td>1882.0</td>\n",
       "      <td>3</td>\n",
       "      <td>970</td>\n",
       "      <td>14</td>\n",
       "      <td>1992</td>\n",
       "      <td>3</td>\n",
       "      <td>0.0</td>\n",
       "      <td>0.0</td>\n",
       "      <td>912.0</td>\n",
       "      <td>...</td>\n",
       "      <td>4</td>\n",
       "      <td>0.0</td>\n",
       "      <td>0</td>\n",
       "      <td>1</td>\n",
       "      <td>0</td>\n",
       "      <td>575.0</td>\n",
       "      <td>62.0</td>\n",
       "      <td>6</td>\n",
       "      <td>0</td>\n",
       "      <td>0</td>\n",
       "    </tr>\n",
       "    <tr>\n",
       "      <th>2919</th>\n",
       "      <td>7</td>\n",
       "      <td>2996.0</td>\n",
       "      <td>3</td>\n",
       "      <td>2000</td>\n",
       "      <td>13</td>\n",
       "      <td>1993</td>\n",
       "      <td>3</td>\n",
       "      <td>650.0</td>\n",
       "      <td>3.0</td>\n",
       "      <td>996.0</td>\n",
       "      <td>...</td>\n",
       "      <td>4</td>\n",
       "      <td>1993.0</td>\n",
       "      <td>3</td>\n",
       "      <td>1</td>\n",
       "      <td>0</td>\n",
       "      <td>238.0</td>\n",
       "      <td>74.0</td>\n",
       "      <td>2</td>\n",
       "      <td>1004</td>\n",
       "      <td>1</td>\n",
       "    </tr>\n",
       "  </tbody>\n",
       "</table>\n",
       "<p>2915 rows × 25 columns</p>\n",
       "</div>"
      ],
      "text/plain": [
       "      OverallQual  TotalIndrSF  ExterQual  GrLivArea  AgeBuilt  YearBuilt  \\\n",
       "Id                                                                          \n",
       "1               7       2566.0          4       1710         5       2003   \n",
       "2               6       2524.0          3       1262        31       1976   \n",
       "3               7       2706.0          4       1786         7       2001   \n",
       "4               7       2473.0          3       1717        91       1915   \n",
       "5               8       3343.0          4       2198         8       2000   \n",
       "...           ...          ...        ...        ...       ...        ...   \n",
       "2915            4       1638.0          3       1092        36       1970   \n",
       "2916            4       1638.0          3       1092        36       1970   \n",
       "2917            5       2448.0          3       1224        46       1960   \n",
       "2918            5       1882.0          3        970        14       1992   \n",
       "2919            7       2996.0          3       2000        13       1993   \n",
       "\n",
       "      KitchenQual  GarageArea  GarageCars  TotalBsmtSF  ...  BsmtQual  \\\n",
       "Id                                                      ...             \n",
       "1               4       548.0         2.0        856.0  ...         4   \n",
       "2               3       460.0         2.0       1262.0  ...         4   \n",
       "3               4       608.0         2.0        920.0  ...         4   \n",
       "4               4       642.0         3.0        756.0  ...         3   \n",
       "5               4       836.0         3.0       1145.0  ...         4   \n",
       "...           ...         ...         ...          ...  ...       ...   \n",
       "2915            3         0.0         0.0        546.0  ...         3   \n",
       "2916            3       286.0         1.0        546.0  ...         3   \n",
       "2917            3       576.0         2.0       1224.0  ...         3   \n",
       "2918            3         0.0         0.0        912.0  ...         4   \n",
       "2919            3       650.0         3.0        996.0  ...         4   \n",
       "\n",
       "      GarageYrBlt  FireplaceQu  CentralAir_Y  CentralAir_N  BsmtUnfSF  \\\n",
       "Id                                                                      \n",
       "1          2003.0            0             1             0      150.0   \n",
       "2          1976.0            3             1             0      284.0   \n",
       "3          2001.0            3             1             0      434.0   \n",
       "4          1998.0            4             1             0      540.0   \n",
       "5          2000.0            3             1             0      490.0   \n",
       "...           ...          ...           ...           ...        ...   \n",
       "2915          0.0            0             1             0      546.0   \n",
       "2916       1970.0            0             1             0      294.0   \n",
       "2917       1960.0            3             1             0        0.0   \n",
       "2918          0.0            0             1             0      575.0   \n",
       "2919       1993.0            3             1             0      238.0   \n",
       "\n",
       "      LotFrontage  BsmtFinType1  2ndFlrSF  Fireplaces  \n",
       "Id                                                     \n",
       "1            65.0             6       854           0  \n",
       "2            80.0             5         0           1  \n",
       "3            68.0             6       866           1  \n",
       "4            60.0             5       756           1  \n",
       "5            84.0             6      1053           1  \n",
       "...           ...           ...       ...         ...  \n",
       "2915         21.0             1       546           0  \n",
       "2916         21.0             3       546           0  \n",
       "2917        160.0             5         0           1  \n",
       "2918         62.0             6         0           0  \n",
       "2919         74.0             2      1004           1  \n",
       "\n",
       "[2915 rows x 25 columns]"
      ]
     },
     "metadata": {},
     "output_type": "display_data"
    }
   ],
   "source": [
    "df_NN = df_tot_onehot[to_keep_NN].copy(); display(df_NN)"
   ]
  },
  {
   "cell_type": "code",
   "execution_count": 51,
   "metadata": {},
   "outputs": [
    {
     "data": {
      "image/png": "[encoded data removed]",
      "text/plain": [
       "<Figure size 1080x720 with 25 Axes>"
      ]
     },
     "metadata": {
      "needs_background": "light"
     },
     "output_type": "display_data"
    }
   ],
   "source": [
    "fig, ax = plt.subplots(nrows=5, ncols=5, figsize=(15,10))\n",
    "\n",
    "for i, var in enumerate(df_NN):\n",
    "    active_ax = ax.flatten()[i]\n",
    "#    sns.distplot(df_NN.loc[df_NN[var] > 0, var], ax=active_ax)\n",
    "    sns.distplot(df_NN[var], ax=active_ax)\n",
    "\n",
    "fig.tight_layout()"
   ]
  },
  {
   "cell_type": "code",
   "execution_count": null,
   "metadata": {},
   "outputs": [],
   "source": [
    "def log_normalize(df):\n",
    "    df[df!=0] = np.log(df[df!=0])\n",
    "    return (df - np.mean(df)) / np.std(df)\n",
    "\n",
    "def lin_normalize(df):\n",
    "    return (df - np.mean(df)) / np.std(df)"
   ]
  },
  {
   "cell_type": "code",
   "execution_count": null,
   "metadata": {},
   "outputs": [],
   "source": [
    "list_lognorm = ['LotArea','MasVnrArea','BsmtFinSF1', 'BsmtFinType2', 'BsmtFinSF2', 'BsmtUnfSF',\n",
    "       'TotalBsmtSF','1stFlrSF', '2ndFlrSF', 'LowQualFinSF','GrLivArea','GarageArea', 'WoodDeckSF', 'OpenPorchSF',\n",
    "                'PoolArea', 'TotalIndrSF']\n",
    "\n",
    "print('LotArea' in list_lognorm)"
   ]
  },
  {
   "cell_type": "code",
   "execution_count": null,
   "metadata": {},
   "outputs": [],
   "source": [
    "df_NN['TotalIndrSF']"
   ]
  },
  {
   "cell_type": "code",
   "execution_count": null,
   "metadata": {},
   "outputs": [],
   "source": [
    "for (col,data) in df_NN.iteritems():\n",
    "    if col in list_lognorm:\n",
    "        df_NN[col] = log_normalize(df_NN[col])\n",
    "    else:\n",
    "        df_NN[col] = lin_normalize(df_NN[col])"
   ]
  },
  {
   "cell_type": "code",
   "execution_count": null,
   "metadata": {},
   "outputs": [],
   "source": [
    "fig, ax = plt.subplots(nrows=5, ncols=5, figsize=(15,10))\n",
    "\n",
    "for i, var in enumerate(df_NN):\n",
    "    active_ax = ax.flatten()[i]\n",
    "    #sns.distplot(df_NN.loc[df_NN[var] > 0, var], ax=active_ax)\n",
    "    sns.distplot(df_NN[var], ax=active_ax)\n",
    "\n",
    "fig.tight_layout()"
   ]
  },
  {
   "cell_type": "code",
   "execution_count": null,
   "metadata": {},
   "outputs": [],
   "source": [
    "df_train_NN = df_NN.iloc[:len(df_train),:]\n",
    "df_test_NN = df_NN.iloc[len(df_train):,:]\n",
    "y_target =  np.log(df_raw.SalePrice)\n",
    "y_mean = y_target.mean()\n",
    "y_std = y_target.std()\n",
    "y_target_NN = (y_target-y_mean) / y_std\n",
    "\n",
    "#X_train_NN, X_val = split_vals(df_train_NN,1-round(len(df_train_NN)/10))\n",
    "X_train_NN, X_val_NN = split_vals(df_train_NN,1-round(len(df_train_NN)/10))\n",
    "y_train_NN, y_val_NN = split_vals(y_target_NN,1-round(len(df_train_NN)/10))\n",
    "\n"
   ]
  },
  {
   "cell_type": "code",
   "execution_count": null,
   "metadata": {},
   "outputs": [],
   "source": [
    "y_tensor = torch.from_numpy(np.array(y_train_NN)).float()\n",
    "x_tensor = torch.from_numpy(np.array(X_train_NN)).float()\n",
    "n_inputs = x_tensor.shape[1]\n",
    "dataset = torch.utils.data.TensorDataset(x_tensor,y_tensor)\n",
    "dataloader_NN = torch.utils.data.DataLoader(dataset,batch_size = x_tensor.size()[0])\n",
    "\n",
    "#\n",
    "y_tensor_val = torch.from_numpy(np.array(y_val_NN)).float()\n",
    "x_tensor_val = torch.from_numpy(np.array(X_val_NN)).float()\n"
   ]
  },
  {
   "cell_type": "code",
   "execution_count": null,
   "metadata": {},
   "outputs": [],
   "source": [
    "\n",
    "class Net(nn.Module):\n",
    "    # initialize the network and define all learnable parameters\n",
    "    def __init__(self):\n",
    "        super(Net, self).__init__() # initialize properties and methods from parent class\n",
    "        \n",
    "        ###### add layers here ######\n",
    "        self.h1  = nn.Linear(n_inputs,75, bias=True)\n",
    "        self.h2  = nn.Linear(75,50, bias=True)\n",
    "        self.h3  = nn.Linear(50,30, bias=True)\n",
    "        self.h4 = nn.Linear(30, 15, bias=True)\n",
    "        self.out = nn.Linear(15, 1, bias=True)        \n",
    "        #############################\n",
    "        \n",
    "    # define the forward pass\n",
    "    def forward(self, x):\n",
    "        \n",
    "        ###### code the forward computation ########\n",
    "        x = F.relu(self.h1(x)) # First hidden layer\n",
    "        x = F.relu(self.h2(x)) # Second hidden layer\n",
    "        x = F.relu(self.h3(x))\n",
    "        x = F.relu(self.h4(x))        \n",
    "        out = self.out(x) # Output layer\n",
    "        #############################\n",
    "        return out\n",
    "\n"
   ]
  },
  {
   "cell_type": "code",
   "execution_count": null,
   "metadata": {},
   "outputs": [],
   "source": [
    "# create a function (this my favorite choice)\n",
    "def RMSELoss(yhat,y):\n",
    "    return torch.sqrt(torch.mean((yhat.view(-1)-y)**2))\n",
    "\n",
    "def train(NeuralNetwork,dataloader,loss_function, num_epochs, l_rate=0.001, wd=0,earlystop = True ):\n",
    "    \"\"\"\n",
    "    Performs gradient descent learning.\n",
    "    \n",
    "    NeuralNetwork = neural network to be trained\n",
    "    dataloader = DataLoader that deals batches for mini-batch learning\n",
    "    loss_function = cost function to be optimized\n",
    "    num_epochs = number of training epochs\n",
    "    l_rate = learning rate (default value 0.001)\n",
    "    wd = weight decay regularization (default value 0)\n",
    "    \"\"\"\n",
    "    optimizer = torch.optim.SGD(NeuralNetwork.parameters(), lr = l_rate)\n",
    "    validation_loss = math.inf\n",
    "    for epoch in range(num_epochs):\n",
    "        running_loss = 0.0\n",
    "        \n",
    "        for batch_idx , (inputs,labels) in enumerate(dataloader):\n",
    "            # reset gradient\n",
    "            optimizer.zero_grad()\n",
    "            # forward propagation\n",
    "            outputs = NeuralNetwork(inputs)\n",
    "            # compute loss\n",
    "            loss = torch.sqrt(loss_function(outputs, labels))\n",
    "            # backprop\n",
    "            loss.backward()\n",
    "            # update parameters\n",
    "            optimizer.step()\n",
    "            # add loss\n",
    "            running_loss += loss.item()\n",
    "        if (epoch % 100) == 0:\n",
    "            val_temp = validation_loss\n",
    "            training_loss = RMSELoss(NeuralNetwork(x_tensor).detach()*y_std+y_mean,y_tensor*y_std+y_mean).numpy()\n",
    "            validation_loss = RMSELoss(NeuralNetwork(x_tensor_val).detach()*y_std+y_mean,y_tensor_val*y_std+y_mean).numpy()\n",
    "            print('Epoch: {0:5d} Training loss: {1:.4f}, Validation loss: {2:.4f}'.format(epoch,training_loss,validation_loss))\n",
    "            if val_temp < validation_loss and earlystop:\n",
    "                break"
   ]
  },
  {
   "cell_type": "code",
   "execution_count": null,
   "metadata": {},
   "outputs": [],
   "source": [
    "net_reg = Net()\n",
    "print(net_reg,'\\n')\n",
    "\n",
    "# Lets look at some example parameters of our network\n",
    "params = list(net_reg.parameters())\n",
    "print(params[0])"
   ]
  },
  {
   "cell_type": "code",
   "execution_count": null,
   "metadata": {},
   "outputs": [],
   "source": []
  },
  {
   "cell_type": "code",
   "execution_count": null,
   "metadata": {},
   "outputs": [],
   "source": [
    "train(net_reg,dataloader_NN,RMSELoss,10000, 0.01,wd=10**-5)"
   ]
  },
  {
   "cell_type": "code",
   "execution_count": null,
   "metadata": {},
   "outputs": [],
   "source": []
  },
  {
   "cell_type": "code",
   "execution_count": null,
   "metadata": {},
   "outputs": [],
   "source": []
  },
  {
   "cell_type": "code",
   "execution_count": null,
   "metadata": {},
   "outputs": [],
   "source": [
    "predictions_NN = net_reg(x_tensor_val).detach().numpy().flatten()*y_std+y_mean\n",
    "grid = np.linspace(0,1,21)\n",
    "err_mixed = np.zeros(len(grid))\n",
    "idx = 0 \n",
    "for weight in np.linspace(0,1,21):\n",
    "    err_mixed[idx] = get_rmse(xgb_reg.predict(X_val)*weight + (1-weight)*(predictions_NN),y_val)\n",
    "    #print('Weight: ', weight,' RMSE: ',((xgb_reg.predict(X_val)*weight + (1-weight)*(predictions_NN))-y_val).std())\n",
    "    idx += 1\n",
    "idx_min = np.argmin(err_mixed)\n",
    "\n",
    "fig,ax = plt.subplots()\n",
    "ax.plot(grid,err_mixed)\n",
    "ax.plot(grid[idx_min],err_mixed[idx_min],'ro')\n",
    "plt.xlabel('Mixture weight of XGB')\n",
    "plt.ylabel('RMSE')\n",
    "\n",
    "plt.show()"
   ]
  },
  {
   "cell_type": "markdown",
   "metadata": {},
   "source": [
    "# Training full NN"
   ]
  },
  {
   "cell_type": "code",
   "execution_count": null,
   "metadata": {},
   "outputs": [],
   "source": [
    "net_final = Net()\n",
    "\n",
    "y_tensor_full = torch.from_numpy(np.array(y_target_NN)).float()\n",
    "x_tensor_full = torch.from_numpy(np.array(df_train_NN)).float()\n",
    "n_inputs = x_tensor_full.shape[1]\n",
    "dataset_full = torch.utils.data.TensorDataset(x_tensor_full,y_tensor_full)\n",
    "dataloader_NN_full = torch.utils.data.DataLoader(dataset_full,batch_size = x_tensor_full.size()[0])"
   ]
  },
  {
   "cell_type": "code",
   "execution_count": null,
   "metadata": {},
   "outputs": [],
   "source": []
  },
  {
   "cell_type": "code",
   "execution_count": null,
   "metadata": {},
   "outputs": [],
   "source": [
    "train(net_final,dataloader_NN_full,RMSELoss,3000, 0.01,wd=10**-5, earlystop = False)\n",
    "train(net_final,dataloader_NN_full,RMSELoss,1000, 0.001,wd=10**-5, earlystop = False)\n",
    "#train(net_final,dataloader_NN,RMSELoss,5000, 10**-5,wd=5*10**-4, earlystop = False)\n",
    "#train(net_final,dataloader_NN_full,RMSELoss,1000, 10**-6,wd=5*10**-4, earlystop = False)"
   ]
  },
  {
   "cell_type": "code",
   "execution_count": null,
   "metadata": {},
   "outputs": [],
   "source": [
    "x_tensor_test = torch.from_numpy(np.array(df_test_NN)).float()\n",
    "predictions_NN = net_reg(x_tensor_test).detach().numpy().flatten()*y_std+y_mean"
   ]
  },
  {
   "cell_type": "markdown",
   "metadata": {},
   "source": [
    "# Training full XGB"
   ]
  },
  {
   "cell_type": "code",
   "execution_count": null,
   "metadata": {},
   "outputs": [],
   "source": [
    "import xgboost as xgb\n",
    "xg_full = xgb.XGBRegressor(colsample_bytree = 0.4603, min_child_weight = 1.71,\n",
    "                          learning_rate = 0.05, reg_lambda = .85, subsample=0.52,\n",
    "                          gamma = 0.046, max_depth = 3, n_estimators = 2200)\n",
    "xg_full.fit(df_train_processed,y_target)\n",
    "\n",
    "\n",
    "\n"
   ]
  },
  {
   "cell_type": "code",
   "execution_count": null,
   "metadata": {},
   "outputs": [],
   "source": [
    "predictions_XBG = xg_full.predict(df_test_processed)"
   ]
  },
  {
   "cell_type": "markdown",
   "metadata": {},
   "source": [
    "# Putting Predictions Together"
   ]
  },
  {
   "cell_type": "code",
   "execution_count": null,
   "metadata": {},
   "outputs": [],
   "source": [
    "outlier_test_ID = df_test_processed.loc[df_test_processed.GrLivArea > 4000].index[0]\n",
    "df_pred = pd.DataFrame()\n",
    "df_pred.insert(0,'SalePrice',np.exp(predictions_XBG*0.5 + predictions_NN*(1-.5)))\n",
    "df_pred.insert(0,'Id',df_test_processed.index)\n",
    "df_pred.loc[df_pred.Id == outlier_test_ID,'SalePrice'] = outlier_predicted_price\n",
    "display(df_pred)\n",
    "df_pred.to_csv('RF_v11.csv',index=False)"
   ]
  },
  {
   "cell_type": "code",
   "execution_count": null,
   "metadata": {},
   "outputs": [],
   "source": []
  },
  {
   "cell_type": "code",
   "execution_count": null,
   "metadata": {},
   "outputs": [],
   "source": []
  }
 ],
 "metadata": {
  "kernelspec": {
   "display_name": "Python 3",
   "language": "python",
   "name": "python3"
  },
  "language_info": {
   "codemirror_mode": {
    "name": "ipython",
    "version": 3
   },
   "file_extension": ".py",
   "mimetype": "text/x-python",
   "name": "python",
   "nbconvert_exporter": "python",
   "pygments_lexer": "ipython3",
   "version": "3.7.5"
  }
 },
 "nbformat": 4,
 "nbformat_minor": 2
}
